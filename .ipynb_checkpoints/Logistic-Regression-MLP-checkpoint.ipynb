{
 "cells": [
  {
   "cell_type": "code",
   "execution_count": 1,
   "id": "839d4765",
   "metadata": {},
   "outputs": [],
   "source": [
    "from sklearn.linear_model import LogisticRegression\n",
    "from sklearn.model_selection import train_test_split\n",
    "import pandas as pd\n",
    "import os\n",
    "import numpy as np\n",
    "import torch\n",
    "import torch.optim as optim\n",
    "import torch.nn as nn"
   ]
  },
  {
   "cell_type": "markdown",
   "id": "df89c078",
   "metadata": {},
   "source": [
    "## Data Processing"
   ]
  },
  {
   "cell_type": "code",
   "execution_count": 2,
   "id": "3438be8d",
   "metadata": {},
   "outputs": [],
   "source": [
    "cwd = os.getcwd()\n",
    "columns = ['temperature', 'relative_humidity', 'wind_speed', 'wind_direction', 'total_precipitation', 'volumetric_soil_water_layer_1','Counties_Idx', \"Started_Date\" ]\n",
    "weather_wildfire_data_url = cwd + r\"/Cleaned Data/Weather_California_Fire_Incidents.csv\"\n",
    "fire_data = pd.read_csv(weather_wildfire_data_url)\n",
    "fire_data['Fire'] = 1\n"
   ]
  },
  {
   "cell_type": "code",
   "execution_count": 3,
   "id": "ab692b14",
   "metadata": {},
   "outputs": [
    {
     "name": "stdout",
     "output_type": "stream",
     "text": [
      "      AcresBurned         Counties               Started Started_Date  \\\n",
      "0        257314.0     Tuolumne, CA  2013-08-17T15:25:00Z   2013-08-17   \n",
      "1         30274.0  Los Angeles, CA  2013-05-30T15:28:00Z   2013-05-30   \n",
      "2         27531.0    Riverside, CA  2013-07-15T13:43:00Z   2013-07-15   \n",
      "3         27440.0       Placer, CA  2013-08-10T16:30:00Z   2013-08-10   \n",
      "4         24251.0      Ventura, CA  2013-05-02T07:01:00Z   2013-05-02   \n",
      "...           ...              ...                   ...          ...   \n",
      "1595         10.0    Riverside, CA  2019-09-10T10:43:58Z   2019-09-10   \n",
      "1596         10.0        Butte, CA  2019-07-23T14:41:00Z   2019-07-23   \n",
      "1597         10.0     Siskiyou, CA  2019-06-16T20:33:00Z   2019-06-16   \n",
      "1598         10.0        Butte, CA  2019-04-30T12:20:00Z   2019-04-30   \n",
      "1599          9.0    Riverside, CA  2019-10-10T12:08:00Z   2019-10-10   \n",
      "\n",
      "      Started_Hour  temperature  relative_humidity  wind_speed  \\\n",
      "0               15        21.28               0.29        1.30   \n",
      "1               15        19.81               0.56        1.34   \n",
      "2               13        22.62               0.62        2.77   \n",
      "3               16        19.13               0.30        1.26   \n",
      "4                7        16.40               0.94        0.19   \n",
      "...            ...          ...                ...         ...   \n",
      "1595            10        15.98               0.76        2.76   \n",
      "1596            14        22.70               0.46        2.12   \n",
      "1597            20        23.94               0.36        2.50   \n",
      "1598            12        12.62               0.76        2.86   \n",
      "1599            12        14.45               0.74        7.81   \n",
      "\n",
      "      wind_direction  total_precipitation  volumetric_soil_water_layer_1  Fire  \n",
      "0              58.58                 0.00                           0.13     1  \n",
      "1             174.30                 0.00                           0.07     1  \n",
      "2             256.01                 0.00                           0.10     1  \n",
      "3             204.91                 0.00                           0.22     1  \n",
      "4              81.05                 2.41                           0.45     1  \n",
      "...              ...                  ...                            ...   ...  \n",
      "1595          337.84                 0.03                           0.26     1  \n",
      "1596          102.39                 0.00                           0.16     1  \n",
      "1597          346.02                 0.00                           0.18     1  \n",
      "1598          144.53                 0.00                           0.21     1  \n",
      "1599          235.51                 0.03                           0.28     1  \n",
      "\n",
      "[1600 rows x 12 columns]\n"
     ]
    }
   ],
   "source": [
    "print(fire_data)"
   ]
  },
  {
   "cell_type": "code",
   "execution_count": 4,
   "id": "f90c2ec6",
   "metadata": {},
   "outputs": [],
   "source": [
    "counties = fire_data[\"Counties\"].unique()\n",
    "for county in counties:\n",
    "    fname = f\"{cwd}/Cleaned Data/{county}/{county}_Fire_Incidents.csv\"\n",
    "    df = pd.read_csv(fname)\n",
    "    df[\"Counties\"] = county\n",
    "    df.to_csv(fname, index=False)"
   ]
  },
  {
   "cell_type": "code",
   "execution_count": 5,
   "id": "ea9e9859",
   "metadata": {},
   "outputs": [
    {
     "name": "stdout",
     "output_type": "stream",
     "text": [
      "     Started_Date  temperature  relative_humidity  wind_speed  wind_direction  \\\n",
      "0      2013-01-15         0.01               0.62        2.32           69.71   \n",
      "1      2013-02-15         0.10               0.84        4.28           64.43   \n",
      "2      2013-03-15        10.22               0.76        1.53           55.64   \n",
      "3      2013-04-15         8.15               0.72        0.72          216.74   \n",
      "4      2013-05-15        14.27               0.71        0.86           50.09   \n",
      "...           ...          ...                ...         ...             ...   \n",
      "3394   2019-07-15        23.00               0.66        4.09            9.59   \n",
      "3395   2019-08-15        25.22               0.82        1.67            8.64   \n",
      "3396   2019-09-15        23.63               0.56       11.14           21.09   \n",
      "3397   2019-11-15        18.77               0.76        3.44          166.85   \n",
      "3398   2019-12-15        16.69               0.69        3.25           41.32   \n",
      "\n",
      "      total_precipitation  volumetric_soil_water_layer_1      Counties  Fire  \n",
      "0                     0.0                           0.38  Tuolumne, CA     0  \n",
      "1                     0.0                           0.33  Tuolumne, CA     0  \n",
      "2                     0.0                           0.29  Tuolumne, CA     0  \n",
      "3                     0.0                           0.30  Tuolumne, CA     0  \n",
      "4                     0.0                           0.21  Tuolumne, CA     0  \n",
      "...                   ...                            ...           ...   ...  \n",
      "3394                  0.0                           0.03     Marin, CA     0  \n",
      "3395                  0.0                           0.02     Marin, CA     0  \n",
      "3396                  0.0                           0.02     Marin, CA     0  \n",
      "3397                  0.0                           0.08     Marin, CA     0  \n",
      "3398                  0.0                           0.11     Marin, CA     0  \n",
      "\n",
      "[3399 rows x 9 columns]\n"
     ]
    }
   ],
   "source": [
    "counties = fire_data[\"Counties\"].unique()\n",
    "files = []\n",
    "for county in counties:\n",
    "    fname = f\"{cwd}/Cleaned Data/{county}/{county}_Fire_Incidents.csv\"\n",
    "    files.append(fname)\n",
    "\n",
    "no_fire_data = pd.concat(map(pd.read_csv, files), ignore_index=True)\n",
    "no_fire_data['Fire'] = 0\n",
    "print(no_fire_data)"
   ]
  },
  {
   "cell_type": "code",
   "execution_count": 6,
   "id": "467a8445",
   "metadata": {},
   "outputs": [],
   "source": [
    "data = pd.concat([fire_data, no_fire_data], ignore_index=True, sort=False)\n",
    "url = cwd + r\"/Cleaned Data/Combined_Weather_California_Fire_Incidents.csv\"\n",
    "data.to_csv(url, index=False)"
   ]
  },
  {
   "cell_type": "code",
   "execution_count": 7,
   "id": "3eabac7b",
   "metadata": {},
   "outputs": [
    {
     "name": "stdout",
     "output_type": "stream",
     "text": [
      "      AcresBurned         Counties               Started Started_Date  \\\n",
      "0        257314.0     Tuolumne, CA  2013-08-17T15:25:00Z   2013-08-17   \n",
      "1         30274.0  Los Angeles, CA  2013-05-30T15:28:00Z   2013-05-30   \n",
      "2         27531.0    Riverside, CA  2013-07-15T13:43:00Z   2013-07-15   \n",
      "3         27440.0       Placer, CA  2013-08-10T16:30:00Z   2013-08-10   \n",
      "4         24251.0      Ventura, CA  2013-05-02T07:01:00Z   2013-05-02   \n",
      "...           ...              ...                   ...          ...   \n",
      "4994          NaN        Marin, CA                   NaN   2019-07-15   \n",
      "4995          NaN        Marin, CA                   NaN   2019-08-15   \n",
      "4996          NaN        Marin, CA                   NaN   2019-09-15   \n",
      "4997          NaN        Marin, CA                   NaN   2019-11-15   \n",
      "4998          NaN        Marin, CA                   NaN   2019-12-15   \n",
      "\n",
      "      Started_Hour  temperature  relative_humidity  wind_speed  \\\n",
      "0             15.0        21.28               0.29        1.30   \n",
      "1             15.0        19.81               0.56        1.34   \n",
      "2             13.0        22.62               0.62        2.77   \n",
      "3             16.0        19.13               0.30        1.26   \n",
      "4              7.0        16.40               0.94        0.19   \n",
      "...            ...          ...                ...         ...   \n",
      "4994           NaN        23.00               0.66        4.09   \n",
      "4995           NaN        25.22               0.82        1.67   \n",
      "4996           NaN        23.63               0.56       11.14   \n",
      "4997           NaN        18.77               0.76        3.44   \n",
      "4998           NaN        16.69               0.69        3.25   \n",
      "\n",
      "      wind_direction  total_precipitation  volumetric_soil_water_layer_1  Fire  \n",
      "0              58.58                 0.00                           0.13     1  \n",
      "1             174.30                 0.00                           0.07     1  \n",
      "2             256.01                 0.00                           0.10     1  \n",
      "3             204.91                 0.00                           0.22     1  \n",
      "4              81.05                 2.41                           0.45     1  \n",
      "...              ...                  ...                            ...   ...  \n",
      "4994            9.59                 0.00                           0.03     0  \n",
      "4995            8.64                 0.00                           0.02     0  \n",
      "4996           21.09                 0.00                           0.02     0  \n",
      "4997          166.85                 0.00                           0.08     0  \n",
      "4998           41.32                 0.00                           0.11     0  \n",
      "\n",
      "[4999 rows x 12 columns]\n"
     ]
    }
   ],
   "source": [
    "print(data)"
   ]
  },
  {
   "cell_type": "code",
   "execution_count": 8,
   "id": "eccfd955",
   "metadata": {},
   "outputs": [
    {
     "name": "stdout",
     "output_type": "stream",
     "text": [
      "      AcresBurned         Counties               Started Started_Date  \\\n",
      "0        257314.0     Tuolumne, CA  2013-08-17T15:25:00Z   2013-08-17   \n",
      "1         30274.0  Los Angeles, CA  2013-05-30T15:28:00Z   2013-05-30   \n",
      "2         27531.0    Riverside, CA  2013-07-15T13:43:00Z   2013-07-15   \n",
      "3         27440.0       Placer, CA  2013-08-10T16:30:00Z   2013-08-10   \n",
      "4         24251.0      Ventura, CA  2013-05-02T07:01:00Z   2013-05-02   \n",
      "...           ...              ...                   ...          ...   \n",
      "4994          NaN        Marin, CA                   NaN   2019-07-15   \n",
      "4995          NaN        Marin, CA                   NaN   2019-08-15   \n",
      "4996          NaN        Marin, CA                   NaN   2019-09-15   \n",
      "4997          NaN        Marin, CA                   NaN   2019-11-15   \n",
      "4998          NaN        Marin, CA                   NaN   2019-12-15   \n",
      "\n",
      "      Started_Hour  temperature  relative_humidity  wind_speed  \\\n",
      "0             15.0        21.28               0.29        1.30   \n",
      "1             15.0        19.81               0.56        1.34   \n",
      "2             13.0        22.62               0.62        2.77   \n",
      "3             16.0        19.13               0.30        1.26   \n",
      "4              7.0        16.40               0.94        0.19   \n",
      "...            ...          ...                ...         ...   \n",
      "4994           NaN        23.00               0.66        4.09   \n",
      "4995           NaN        25.22               0.82        1.67   \n",
      "4996           NaN        23.63               0.56       11.14   \n",
      "4997           NaN        18.77               0.76        3.44   \n",
      "4998           NaN        16.69               0.69        3.25   \n",
      "\n",
      "      wind_direction  total_precipitation  volumetric_soil_water_layer_1  \\\n",
      "0              58.58                 0.00                           0.13   \n",
      "1             174.30                 0.00                           0.07   \n",
      "2             256.01                 0.00                           0.10   \n",
      "3             204.91                 0.00                           0.22   \n",
      "4              81.05                 2.41                           0.45   \n",
      "...              ...                  ...                            ...   \n",
      "4994            9.59                 0.00                           0.03   \n",
      "4995            8.64                 0.00                           0.02   \n",
      "4996           21.09                 0.00                           0.02   \n",
      "4997          166.85                 0.00                           0.08   \n",
      "4998           41.32                 0.00                           0.11   \n",
      "\n",
      "      Fire  Counties_Idx  \n",
      "0        1             0  \n",
      "1        1             1  \n",
      "2        1             2  \n",
      "3        1             3  \n",
      "4        1             4  \n",
      "...    ...           ...  \n",
      "4994     0            50  \n",
      "4995     0            50  \n",
      "4996     0            50  \n",
      "4997     0            50  \n",
      "4998     0            50  \n",
      "\n",
      "[4999 rows x 13 columns]\n"
     ]
    }
   ],
   "source": [
    "data['Counties_Idx'] = data.apply (lambda row: np.where(row['Counties'] == counties)[0][0], axis=1)\n",
    "print(data)"
   ]
  },
  {
   "cell_type": "code",
   "execution_count": 9,
   "id": "41feed97",
   "metadata": {},
   "outputs": [],
   "source": [
    "X = data[columns].values\n",
    "y = data[['Fire']].values\n",
    "y = y.reshape(y.shape[0])"
   ]
  },
  {
   "cell_type": "code",
   "execution_count": 10,
   "id": "e94f2142",
   "metadata": {},
   "outputs": [],
   "source": [
    "X_train, X_test, y_train, y_test = train_test_split(X, y, test_size=0.2, random_state=0)"
   ]
  },
  {
   "cell_type": "code",
   "execution_count": 11,
   "id": "c2d1cc21",
   "metadata": {},
   "outputs": [],
   "source": [
    "xtrain_url = os.getcwd() + r\"/Model Data/X Train.csv\"\n",
    "xtest_url = os.getcwd() + r\"/Model Data/X Test.csv\"\n",
    "ytrain_url = os.getcwd() + r\"/Model Data/Y Train.csv\"\n",
    "ytest_url = os.getcwd() + r\"/Model Data/Y Test.csv\"\n",
    "\n",
    "folder_path = os.getcwd() + r\"/Model Data\"\n",
    "\n",
    "if not os.path.exists(folder_path):\n",
    "    os.makedirs(folder_path)\n",
    "\n",
    "pd.DataFrame(columns = columns, data=X_train).to_csv(xtrain_url, index=False)\n",
    "pd.DataFrame(columns = columns, data=X_test).to_csv(xtest_url, index=False)\n",
    "pd.DataFrame(columns = [\"Fire\"], data=y_train).to_csv(ytrain_url, index=False)\n",
    "pd.DataFrame(columns = [\"Fire\"], data=y_test).to_csv(ytest_url, index=False)"
   ]
  },
  {
   "cell_type": "markdown",
   "id": "103d2a62",
   "metadata": {},
   "source": [
    "## Scipy Implementation"
   ]
  },
  {
   "cell_type": "code",
   "execution_count": 12,
   "id": "519fab24",
   "metadata": {},
   "outputs": [],
   "source": [
    "X = data[columns[:-1]].values\n",
    "y = data[['Fire']].values\n",
    "y = y.reshape(y.shape[0])"
   ]
  },
  {
   "cell_type": "code",
   "execution_count": 13,
   "id": "cfbe512a",
   "metadata": {},
   "outputs": [],
   "source": [
    "X_train, X_test, y_train, y_test = train_test_split(X, y, test_size=0.2, random_state=0)"
   ]
  },
  {
   "cell_type": "code",
   "execution_count": 14,
   "id": "029e28de",
   "metadata": {},
   "outputs": [
    {
     "data": {
      "text/plain": [
       "LogisticRegression(max_iter=1500)"
      ]
     },
     "execution_count": 14,
     "metadata": {},
     "output_type": "execute_result"
    }
   ],
   "source": [
    "regressor = LogisticRegression(max_iter=1500)\n",
    "regressor.fit(X_train, y_train)"
   ]
  },
  {
   "cell_type": "code",
   "execution_count": 15,
   "id": "2a0ff0d7",
   "metadata": {},
   "outputs": [
    {
     "name": "stdout",
     "output_type": "stream",
     "text": [
      "Accuracy of logistic regression classifier on training set: 0.80\n",
      "Accuracy of logistic regression classifier on test set: 0.78\n"
     ]
    }
   ],
   "source": [
    "print('Accuracy of logistic regression classifier on training set: {:.2f}'.format(regressor.score(X_train, y_train)))\n",
    "print('Accuracy of logistic regression classifier on test set: {:.2f}'.format(regressor.score(X_test, y_test)))"
   ]
  },
  {
   "cell_type": "markdown",
   "id": "4c01d187",
   "metadata": {},
   "source": [
    "## Pytorch Implementation"
   ]
  },
  {
   "cell_type": "code",
   "execution_count": 25,
   "id": "e68b05ec",
   "metadata": {},
   "outputs": [],
   "source": [
    "class LogisticRegression(nn.Module):\n",
    "    def __init__(self, input_dim, output_dim):\n",
    "        super(LogisticRegression, self).__init__()\n",
    "        self.linear = torch.nn.Linear(input_dim, output_dim)\n",
    "    def forward(self, x):\n",
    "        outputs = torch.sigmoid(self.linear(x))\n",
    "        return outputs"
   ]
  },
  {
   "cell_type": "code",
   "execution_count": 26,
   "id": "2290b24b",
   "metadata": {},
   "outputs": [
    {
     "name": "stdout",
     "output_type": "stream",
     "text": [
      "Iteration: 100. \n",
      "Test - Loss: 0.4829041659832001. Accuracy: 78.2\n",
      "Train -  Loss: 0.4758686125278473. Accuracy: 78.09452363090773\n",
      "\n",
      "Iteration: 200. \n",
      "Test - Loss: 0.46385785937309265. Accuracy: 78.0\n",
      "Train -  Loss: 0.45827701687812805. Accuracy: 79.31982995748938\n",
      "\n",
      "Iteration: 300. \n",
      "Test - Loss: 0.4610668420791626. Accuracy: 78.1\n",
      "Train -  Loss: 0.45539507269859314. Accuracy: 79.71992998249563\n",
      "\n",
      "Iteration: 400. \n",
      "Test - Loss: 0.46155276894569397. Accuracy: 78.1\n",
      "Train -  Loss: 0.4558614194393158. Accuracy: 79.29482370592648\n",
      "\n",
      "Iteration: 500. \n",
      "Test - Loss: 0.46006539463996887. Accuracy: 78.3\n",
      "Train -  Loss: 0.4547920823097229. Accuracy: 79.81995498874718\n",
      "\n",
      "Iteration: 600. \n",
      "Test - Loss: 0.4596637487411499. Accuracy: 78.1\n",
      "Train -  Loss: 0.45387351512908936. Accuracy: 79.89497374343586\n",
      "\n",
      "Iteration: 700. \n",
      "Test - Loss: 0.460697740316391. Accuracy: 78.2\n",
      "Train -  Loss: 0.45487913489341736. Accuracy: 79.5198799699925\n",
      "\n",
      "Iteration: 800. \n",
      "Test - Loss: 0.45948246121406555. Accuracy: 78.2\n",
      "Train -  Loss: 0.4541434347629547. Accuracy: 79.96999249812453\n",
      "\n",
      "Iteration: 900. \n",
      "Test - Loss: 0.4592687487602234. Accuracy: 78.6\n",
      "Train -  Loss: 0.45343270897865295. Accuracy: 79.7699424856214\n",
      "\n",
      "Iteration: 1000. \n",
      "Test - Loss: 0.4604250490665436. Accuracy: 78.5\n",
      "Train -  Loss: 0.4545811712741852. Accuracy: 79.56989247311827\n",
      "\n",
      "Iteration: 1100. \n",
      "Test - Loss: 0.4592840373516083. Accuracy: 78.3\n",
      "Train -  Loss: 0.4539455473423004. Accuracy: 80.02000500125031\n",
      "\n",
      "Iteration: 1200. \n",
      "Test - Loss: 0.45913049578666687. Accuracy: 78.9\n",
      "Train -  Loss: 0.4532950818538666. Accuracy: 79.89497374343586\n",
      "\n",
      "Iteration: 1300. \n",
      "Test - Loss: 0.46032801270484924. Accuracy: 78.1\n",
      "Train -  Loss: 0.4544868767261505. Accuracy: 79.54488622155539\n",
      "\n",
      "Iteration: 1400. \n",
      "Test - Loss: 0.4592097997665405. Accuracy: 78.1\n",
      "Train -  Loss: 0.4538837671279907. Accuracy: 79.94498624656164\n",
      "\n",
      "Iteration: 1500. \n",
      "Test - Loss: 0.4590778648853302. Accuracy: 78.6\n",
      "Train -  Loss: 0.45325106382369995. Accuracy: 79.86996749187297\n",
      "\n"
     ]
    }
   ],
   "source": [
    "X_train, X_test = torch.Tensor(X_train),torch.Tensor(X_test)\n",
    "y_train, y_test = torch.Tensor(y_train),torch.Tensor(y_test)\n",
    "model = LogisticRegression(7,1)\n",
    "criterion = torch.nn.BCELoss()\n",
    "optimizer = optim.Adam(model.parameters(), lr=0.007,betas=(0.85,0.75))\n",
    "iter = 0\n",
    "for epoch in range(1500):\n",
    "    x = X_train\n",
    "    labels = y_train\n",
    "    optimizer.zero_grad()\n",
    "    outputs = model(X_train)\n",
    "    loss = criterion(torch.squeeze(outputs), labels) \n",
    "    \n",
    "    loss.backward()\n",
    "    optimizer.step()\n",
    "    \n",
    "    iter+=1\n",
    "    if iter%100==0:\n",
    "        with torch.no_grad():\n",
    "            correct_test = 0\n",
    "            total_test = 0\n",
    "            outputs_test = torch.squeeze(model(X_test))\n",
    "            loss_test = criterion(outputs_test, y_test)\n",
    "            \n",
    "            predicted_test = outputs_test.round().detach().numpy()\n",
    "            total_test += y_test.size(0)\n",
    "            correct_test += np.sum(predicted_test == y_test.detach().numpy())\n",
    "            accuracy_test = 100 * correct_test/total_test\n",
    "            \n",
    "            total = 0\n",
    "            correct = 0\n",
    "            total += y_train.size(0)\n",
    "            correct += np.sum(torch.squeeze(outputs).round().detach().numpy() == y_train.detach().numpy())\n",
    "            accuracy = 100 * correct/total\n",
    "            print(f\"Iteration: {iter}. \\nTest - Loss: {loss_test.item()}. Accuracy: {accuracy_test}\")\n",
    "            print(f\"Train -  Loss: {loss.item()}. Accuracy: {accuracy}\\n\")"
   ]
  },
  {
   "cell_type": "markdown",
   "id": "b1041b97",
   "metadata": {},
   "source": [
    "## MLP Implementation"
   ]
  },
  {
   "cell_type": "code",
   "execution_count": 110,
   "id": "638bbfe8",
   "metadata": {},
   "outputs": [],
   "source": [
    "class MLP(nn.Module):\n",
    "    def __init__(self):\n",
    "        super().__init__()\n",
    "        self.layers = nn.Sequential(\n",
    "            nn.Linear(7, 20),\n",
    "            nn.ReLU(),\n",
    "            nn.Linear(20, 20),\n",
    "            nn.ReLU(),\n",
    "            nn.Linear(20, 20),\n",
    "            nn.ReLU(),\n",
    "            nn.Linear(20, 20),\n",
    "            nn.ReLU(),\n",
    "            nn.Linear(20,1)\n",
    "        )\n",
    "\n",
    "    def forward(self, x):\n",
    "        x = torch.sigmoid(self.layers(x))\n",
    "        return x"
   ]
  },
  {
   "cell_type": "code",
   "execution_count": 111,
   "id": "b5fe9627",
   "metadata": {},
   "outputs": [],
   "source": [
    "X_train, X_test = torch.Tensor(X_train),torch.Tensor(X_test)\n",
    "y_train, y_test = torch.Tensor(y_train),torch.Tensor(y_test)"
   ]
  },
  {
   "cell_type": "code",
   "execution_count": 168,
   "id": "a5da16ae",
   "metadata": {},
   "outputs": [
    {
     "name": "stdout",
     "output_type": "stream",
     "text": [
      "Iteration: 100. \n",
      "Test - Loss: 0.4765236973762512. Accuracy: 75.9\n",
      "Train -  Loss: 0.47218742966651917. Accuracy: 77.69442360590148\n",
      "\n",
      "Iteration: 200. \n",
      "Test - Loss: 0.4522249102592468. Accuracy: 79.5\n",
      "Train -  Loss: 0.4486740827560425. Accuracy: 79.66991747936984\n",
      "\n",
      "Iteration: 300. \n",
      "Test - Loss: 0.44888487458229065. Accuracy: 79.2\n",
      "Train -  Loss: 0.44507670402526855. Accuracy: 79.66991747936984\n",
      "\n",
      "Iteration: 400. \n",
      "Test - Loss: 0.45529401302337646. Accuracy: 78.6\n",
      "Train -  Loss: 0.43332627415657043. Accuracy: 80.19504876219055\n",
      "\n",
      "Iteration: 500. \n",
      "Test - Loss: 0.448662668466568. Accuracy: 79.6\n",
      "Train -  Loss: 0.4284055531024933. Accuracy: 80.32008002000501\n",
      "\n",
      "Iteration: 600. \n",
      "Test - Loss: 0.4532741606235504. Accuracy: 79.0\n",
      "Train -  Loss: 0.42484769225120544. Accuracy: 80.22005501375344\n",
      "\n",
      "Iteration: 700. \n",
      "Test - Loss: 0.440733939409256. Accuracy: 79.1\n",
      "Train -  Loss: 0.4171510636806488. Accuracy: 80.72018004501125\n",
      "\n",
      "Iteration: 800. \n",
      "Test - Loss: 0.44168621301651. Accuracy: 78.8\n",
      "Train -  Loss: 0.4228701889514923. Accuracy: 79.96999249812453\n",
      "\n",
      "Iteration: 900. \n",
      "Test - Loss: 0.4507317543029785. Accuracy: 78.9\n",
      "Train -  Loss: 0.4107409417629242. Accuracy: 80.67016754188548\n",
      "\n",
      "Iteration: 1000. \n",
      "Test - Loss: 0.44287070631980896. Accuracy: 80.1\n",
      "Train -  Loss: 0.4093453288078308. Accuracy: 80.74518629657415\n",
      "\n",
      "Iteration: 1100. \n",
      "Test - Loss: 0.4418535828590393. Accuracy: 78.9\n",
      "Train -  Loss: 0.4062926769256592. Accuracy: 81.09527381845461\n",
      "\n",
      "Iteration: 1200. \n",
      "Test - Loss: 0.44834092259407043. Accuracy: 78.6\n",
      "Train -  Loss: 0.4048346281051636. Accuracy: 80.99524881220304\n",
      "\n",
      "Iteration: 1300. \n",
      "Test - Loss: 0.4420073330402374. Accuracy: 79.8\n",
      "Train -  Loss: 0.3978205919265747. Accuracy: 81.07026756689173\n",
      "\n",
      "Iteration: 1400. \n",
      "Test - Loss: 0.44298481941223145. Accuracy: 78.3\n",
      "Train -  Loss: 0.4042607545852661. Accuracy: 80.99524881220304\n",
      "\n",
      "Iteration: 1500. \n",
      "Test - Loss: 0.44146764278411865. Accuracy: 79.8\n",
      "Train -  Loss: 0.39521855115890503. Accuracy: 81.3953488372093\n",
      "\n"
     ]
    }
   ],
   "source": [
    "model = MLP()\n",
    "criterion = nn.BCELoss()\n",
    "optimizer = optim.Adam(model.parameters(), lr=0.007,betas=(0.85,0.75))\n",
    "iter = 0\n",
    "train_loss = []\n",
    "train_acc = []\n",
    "test_loss = []\n",
    "test_acc = []\n",
    "for epoch in range(1500):\n",
    "    x = X_train\n",
    "    labels = y_train\n",
    "    optimizer.zero_grad()\n",
    "    outputs = model(X_train)\n",
    "    loss = criterion(torch.squeeze(outputs), labels) \n",
    "    \n",
    "    loss.backward()\n",
    "    optimizer.step()\n",
    "    \n",
    "    iter+=1\n",
    "    if iter%100==0:\n",
    "        with torch.no_grad():\n",
    "            correct_test = 0\n",
    "            total_test = 0\n",
    "            outputs_test = torch.squeeze(model(X_test))\n",
    "            loss_test = criterion(outputs_test, y_test)\n",
    "            \n",
    "            predicted_test = outputs_test.round().detach().numpy()\n",
    "            total_test += y_test.size(0)\n",
    "            correct_test += np.sum(predicted_test == y_test.detach().numpy())\n",
    "            accuracy_test = 100 * correct_test/total_test\n",
    "            \n",
    "            total = 0\n",
    "            correct = 0\n",
    "            total += y_train.size(0)\n",
    "            correct += np.sum(torch.squeeze(outputs).round().detach().numpy() == y_train.detach().numpy())\n",
    "            accuracy = 100 * correct/total\n",
    "            train_loss.append(loss.item())\n",
    "            train_acc.append(accuracy)\n",
    "            test_loss.append(loss_test.item())\n",
    "            test_acc.append(accuracy_test)\n",
    "            print(f\"Iteration: {iter}. \\nTest - Loss: {loss_test.item()}. Accuracy: {accuracy_test}\")\n",
    "            print(f\"Train -  Loss: {loss.item()}. Accuracy: {accuracy}\\n\")"
   ]
  },
  {
   "cell_type": "code",
   "execution_count": 169,
   "id": "08d979e6",
   "metadata": {},
   "outputs": [
    {
     "data": {
      "image/png": "[encoded data removed]",
      "text/plain": [
       "<Figure size 432x288 with 1 Axes>"
      ]
     },
     "metadata": {
      "needs_background": "light"
     },
     "output_type": "display_data"
    }
   ],
   "source": [
    "import matplotlib.pyplot as plt\n",
    "plt.title(\"Loss Graph\")\n",
    "plt.plot(test_loss, color=\"red\", label ='Test Set Loss')\n",
    "plt.plot(train_loss, color = 'blue', label ='Training Loss')\n",
    "plt.legend()\n",
    "plt.show()"
   ]
  }
 ],
 "metadata": {
  "kernelspec": {
   "display_name": "Python 3",
   "language": "python",
   "name": "python3"
  },
  "language_info": {
   "codemirror_mode": {
    "name": "ipython",
    "version": 3
   },
   "file_extension": ".py",
   "mimetype": "text/x-python",
   "name": "python",
   "nbconvert_exporter": "python",
   "pygments_lexer": "ipython3",
   "version": "3.8.8"
  }
 },
 "nbformat": 4,
 "nbformat_minor": 5
}
