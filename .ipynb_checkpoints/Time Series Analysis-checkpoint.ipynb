{
 "cells": [
  {
   "cell_type": "markdown",
   "id": "8f05fb9f",
   "metadata": {},
   "source": [
    "# Time Series Analysis\n",
    "## Data Gathering"
   ]
  },
  {
   "cell_type": "code",
   "execution_count": 105,
   "id": "e51b3abd",
   "metadata": {},
   "outputs": [],
   "source": [
    "import pandas as pd\n",
    "import numpy as np\n",
    "import os\n",
    "import pandas as pd\n",
    "from sklearn import preprocessing\n",
    "\n",
    "\n",
    "cwd = os.getcwd()"
   ]
  },
  {
   "cell_type": "code",
   "execution_count": 2,
   "id": "edf3d0b4",
   "metadata": {},
   "outputs": [],
   "source": [
    "data_url = [r\"\\Model Data\\X Train.csv\", r\"\\Model Data\\X Test.csv\", r\"\\Model Data\\Y Train.csv\", r\"\\Model Data\\Y Test.csv\"]"
   ]
  },
  {
   "cell_type": "code",
   "execution_count": 122,
   "id": "2227669e",
   "metadata": {},
   "outputs": [
    {
     "data": {
      "text/html": [
       "<div>\n",
       "<style scoped>\n",
       "    .dataframe tbody tr th:only-of-type {\n",
       "        vertical-align: middle;\n",
       "    }\n",
       "\n",
       "    .dataframe tbody tr th {\n",
       "        vertical-align: top;\n",
       "    }\n",
       "\n",
       "    .dataframe thead th {\n",
       "        text-align: right;\n",
       "    }\n",
       "</style>\n",
       "<table border=\"1\" class=\"dataframe\">\n",
       "  <thead>\n",
       "    <tr style=\"text-align: right;\">\n",
       "      <th></th>\n",
       "      <th>temperature</th>\n",
       "      <th>relative_humidity</th>\n",
       "      <th>wind_speed</th>\n",
       "      <th>wind_direction</th>\n",
       "      <th>total_precipitation</th>\n",
       "      <th>volumetric_soil_water_layer_1</th>\n",
       "      <th>Fire</th>\n",
       "    </tr>\n",
       "  </thead>\n",
       "  <tbody>\n",
       "    <tr>\n",
       "      <th>0</th>\n",
       "      <td>0.231152</td>\n",
       "      <td>0.490683</td>\n",
       "      <td>0.387609</td>\n",
       "      <td>0.556686</td>\n",
       "      <td>0.0</td>\n",
       "      <td>0.519231</td>\n",
       "      <td>0.0</td>\n",
       "    </tr>\n",
       "    <tr>\n",
       "      <th>1</th>\n",
       "      <td>0.490391</td>\n",
       "      <td>0.428571</td>\n",
       "      <td>0.123908</td>\n",
       "      <td>0.451625</td>\n",
       "      <td>0.0</td>\n",
       "      <td>0.615385</td>\n",
       "      <td>0.0</td>\n",
       "    </tr>\n",
       "    <tr>\n",
       "      <th>2</th>\n",
       "      <td>0.496304</td>\n",
       "      <td>0.198758</td>\n",
       "      <td>0.184273</td>\n",
       "      <td>0.051669</td>\n",
       "      <td>0.0</td>\n",
       "      <td>0.134615</td>\n",
       "      <td>0.0</td>\n",
       "    </tr>\n",
       "    <tr>\n",
       "      <th>3</th>\n",
       "      <td>0.471173</td>\n",
       "      <td>0.459627</td>\n",
       "      <td>0.135822</td>\n",
       "      <td>0.404152</td>\n",
       "      <td>0.0</td>\n",
       "      <td>0.653846</td>\n",
       "      <td>0.0</td>\n",
       "    </tr>\n",
       "    <tr>\n",
       "      <th>4</th>\n",
       "      <td>0.523854</td>\n",
       "      <td>0.248447</td>\n",
       "      <td>0.157268</td>\n",
       "      <td>0.136302</td>\n",
       "      <td>0.0</td>\n",
       "      <td>0.153846</td>\n",
       "      <td>0.0</td>\n",
       "    </tr>\n",
       "  </tbody>\n",
       "</table>\n",
       "</div>"
      ],
      "text/plain": [
       "   temperature  relative_humidity  wind_speed  wind_direction  \\\n",
       "0     0.231152           0.490683    0.387609        0.556686   \n",
       "1     0.490391           0.428571    0.123908        0.451625   \n",
       "2     0.496304           0.198758    0.184273        0.051669   \n",
       "3     0.471173           0.459627    0.135822        0.404152   \n",
       "4     0.523854           0.248447    0.157268        0.136302   \n",
       "\n",
       "   total_precipitation  volumetric_soil_water_layer_1  Fire  \n",
       "0                  0.0                       0.519231   0.0  \n",
       "1                  0.0                       0.615385   0.0  \n",
       "2                  0.0                       0.134615   0.0  \n",
       "3                  0.0                       0.653846   0.0  \n",
       "4                  0.0                       0.153846   0.0  "
      ]
     },
     "execution_count": 122,
     "metadata": {},
     "output_type": "execute_result"
    }
   ],
   "source": [
    "dataframes = [pd.read_csv(cwd + url) for url in data_url]\n",
    "data_values = dataframes[:2]\n",
    "data_labels = dataframes[2:]\n",
    "\n",
    "data = pd.concat(data_values, ignore_index=True, axis=0)\n",
    "labels = pd.concat(data_labels, ignore_index=True, axis=0)\n",
    "\n",
    "joined_data = pd.concat([data, labels], axis=1)\n",
    "joined_data = joined_data[joined_data.columns[~joined_data.columns.isin([\"Counties_Idx\"])]]\n",
    "\n",
    "chrono_data = joined_data.sort_values(by=['Started_Date']).reset_index(drop=True).drop(columns=\"Started_Date\")\n",
    "chrono_data_values = chrono_data.values #returns a numpy array\n",
    "min_max_scaler = preprocessing.MinMaxScaler()\n",
    "chrono_data_scaled = min_max_scaler.fit_transform(chrono_data_values)\n",
    "chrono_data = pd.DataFrame(chrono_data_scaled, columns=chrono_data.columns, index=chrono_data.index)\n",
    "chrono_data.head()"
   ]
  },
  {
   "cell_type": "markdown",
   "id": "7ef23142",
   "metadata": {},
   "source": [
    "## Stationary Analysis"
   ]
  },
  {
   "cell_type": "code",
   "execution_count": 2,
   "id": "e6f22a13",
   "metadata": {},
   "outputs": [],
   "source": [
    "from statsmodels.tsa.vector_ar.vecm import coint_johansen\n",
    "from statsmodels.tsa.vector_ar.var_model import VAR"
   ]
  },
  {
   "cell_type": "code",
   "execution_count": 61,
   "id": "44ca68f1",
   "metadata": {},
   "outputs": [
    {
     "name": "stdout",
     "output_type": "stream",
     "text": [
      "Trace Stat: [12206.57315723 10150.27018816  8214.5754269   6322.2536129\n",
      "  4465.57901224  2732.54874589  1103.61414314   198.69333494\n",
      "    19.61521487]\n",
      "\n",
      "Eig Stat:  [0.33734945 0.32116106 0.31524323 0.3103409  0.29306329 0.27818219\n",
      " 0.16564209 0.03520258 0.0039177 ]\n"
     ]
    }
   ],
   "source": [
    "# null hypothesis that there isn't a statistically significant connection between out time series\n",
    "\n",
    "jTestResult = coint_johansen(chrono_data.drop([\"Started_Date\"], axis=1), -1, 1)\n",
    "print(\"Trace Stat:\", jTestResult.trace_stat, end=\"\\n\\n\")\n",
    "print(\"Eig Stat: \", jTestResult.eig)\n",
    "\n",
    "# Can reject the null hypothesis with 95% confidence for both trace and Eig Stat"
   ]
  },
  {
   "cell_type": "code",
   "execution_count": 62,
   "id": "6bc7e8fc",
   "metadata": {},
   "outputs": [],
   "source": [
    "train_data = chrono_data.drop([\"Started_Date\"], axis=1)[:int(0.8 * len(chrono_data))]\n",
    "valid_data = chrono_data.drop([\"Started_Date\"], axis=1)[int(0.8 * len(chrono_data)):]"
   ]
  },
  {
   "cell_type": "markdown",
   "id": "f6abb0aa",
   "metadata": {},
   "source": [
    "## LSTM "
   ]
  },
  {
   "cell_type": "code",
   "execution_count": 4,
   "id": "8cc4124e",
   "metadata": {},
   "outputs": [],
   "source": [
    "from matplotlib import pyplot\n",
    "from math import sqrt\n",
    "from sklearn.metrics import mean_squared_error\n",
    "\n",
    "from keras.models import Sequential\n",
    "from keras.layers import Dense\n",
    "from keras.layers import LSTM\n",
    "from tensorflow.keras import optimizers"
   ]
  },
  {
   "cell_type": "code",
   "execution_count": 123,
   "id": "01e0f43d",
   "metadata": {},
   "outputs": [
    {
     "name": "stdout",
     "output_type": "stream",
     "text": [
      "Counter({'Fire': 1})\n",
      "Counter({'Fire': 1})\n",
      "Counter({'Fire': 1})\n"
     ]
    },
    {
     "data": {
      "text/html": [
       "<div>\n",
       "<style scoped>\n",
       "    .dataframe tbody tr th:only-of-type {\n",
       "        vertical-align: middle;\n",
       "    }\n",
       "\n",
       "    .dataframe tbody tr th {\n",
       "        vertical-align: top;\n",
       "    }\n",
       "\n",
       "    .dataframe thead th {\n",
       "        text-align: right;\n",
       "    }\n",
       "</style>\n",
       "<table border=\"1\" class=\"dataframe\">\n",
       "  <thead>\n",
       "    <tr style=\"text-align: right;\">\n",
       "      <th></th>\n",
       "      <th>temperature</th>\n",
       "      <th>relative_humidity</th>\n",
       "      <th>wind_speed</th>\n",
       "      <th>wind_direction</th>\n",
       "      <th>total_precipitation</th>\n",
       "      <th>volumetric_soil_water_layer_1</th>\n",
       "    </tr>\n",
       "  </thead>\n",
       "  <tbody>\n",
       "    <tr>\n",
       "      <th>0</th>\n",
       "      <td>0.231152</td>\n",
       "      <td>0.490683</td>\n",
       "      <td>0.387609</td>\n",
       "      <td>0.556686</td>\n",
       "      <td>0.0</td>\n",
       "      <td>0.519231</td>\n",
       "    </tr>\n",
       "    <tr>\n",
       "      <th>1</th>\n",
       "      <td>0.490391</td>\n",
       "      <td>0.428571</td>\n",
       "      <td>0.123908</td>\n",
       "      <td>0.451625</td>\n",
       "      <td>0.0</td>\n",
       "      <td>0.615385</td>\n",
       "    </tr>\n",
       "    <tr>\n",
       "      <th>2</th>\n",
       "      <td>0.496304</td>\n",
       "      <td>0.198758</td>\n",
       "      <td>0.184273</td>\n",
       "      <td>0.051669</td>\n",
       "      <td>0.0</td>\n",
       "      <td>0.134615</td>\n",
       "    </tr>\n",
       "    <tr>\n",
       "      <th>3</th>\n",
       "      <td>0.471173</td>\n",
       "      <td>0.459627</td>\n",
       "      <td>0.135822</td>\n",
       "      <td>0.404152</td>\n",
       "      <td>0.0</td>\n",
       "      <td>0.653846</td>\n",
       "    </tr>\n",
       "    <tr>\n",
       "      <th>4</th>\n",
       "      <td>0.523854</td>\n",
       "      <td>0.248447</td>\n",
       "      <td>0.157268</td>\n",
       "      <td>0.136302</td>\n",
       "      <td>0.0</td>\n",
       "      <td>0.153846</td>\n",
       "    </tr>\n",
       "  </tbody>\n",
       "</table>\n",
       "</div>"
      ],
      "text/plain": [
       "   temperature  relative_humidity  wind_speed  wind_direction  \\\n",
       "0     0.231152           0.490683    0.387609        0.556686   \n",
       "1     0.490391           0.428571    0.123908        0.451625   \n",
       "2     0.496304           0.198758    0.184273        0.051669   \n",
       "3     0.471173           0.459627    0.135822        0.404152   \n",
       "4     0.523854           0.248447    0.157268        0.136302   \n",
       "\n",
       "   total_precipitation  volumetric_soil_water_layer_1  \n",
       "0                  0.0                       0.519231  \n",
       "1                  0.0                       0.615385  \n",
       "2                  0.0                       0.134615  \n",
       "3                  0.0                       0.653846  \n",
       "4                  0.0                       0.153846  "
      ]
     },
     "execution_count": 123,
     "metadata": {},
     "output_type": "execute_result"
    }
   ],
   "source": [
    "trainEnd = int(0.6 * len(chrono_data))\n",
    "validEnd = trainEnd + int(0.2 * len(chrono_data))\n",
    "\n",
    "train_data = chrono_data[:trainEnd]\n",
    "valid_data = chrono_data[trainEnd:validEnd]\n",
    "test_data = chrono_data[validEnd:]\n",
    "\n",
    "train_X, train_Y = train_data[train_data.columns[~train_data.columns.isin([\"Fire\"])]], train_data[[\"Fire\"]]\n",
    "valid_X, valid_Y = valid_data[test_data.columns[~test_data.columns.isin([\"Fire\"])]], valid_data[[\"Fire\"]]\n",
    "test_X, test_Y = test_data[test_data.columns[~test_data.columns.isin([\"Fire\"])]], test_data[[\"Fire\"]]\n",
    "\n",
    "from collections import Counter\n",
    "\n",
    "print(Counter(train_Y))\n",
    "print(Counter(valid_Y))\n",
    "print(Counter(test_Y))\n",
    "train_X.head()"
   ]
  },
  {
   "cell_type": "code",
   "execution_count": 128,
   "id": "2f6fa375",
   "metadata": {},
   "outputs": [],
   "source": [
    "def prepareData(data, window_size):\n",
    "    data_values = data.values\n",
    "    result = []\n",
    "    for i in range(window_size - 1, data.shape[0]):\n",
    "        sample = []\n",
    "        for j in range(window_size - 1, -1, -1):\n",
    "            sample.append(data_values[i - j])\n",
    "        result.append(sample)\n",
    "        \n",
    "    return np.array(result)\n",
    "\n",
    "\n",
    "def prepareLabels(data, window_size):\n",
    "    label_size = data.shape[0] - window_size + 1\n",
    "    label_values = data.values[window_size - 1:]\n",
    "    \n",
    "    return label_values.reshape(label_size)\n",
    "\n",
    "def lstm(train_X, train_Y, valid_X, valid_Y, test_X, test_Y, window_size=1, dropout=0.0):\n",
    "    train_X_values = prepareData(train_X, window_size)\n",
    "    valid_X_values = prepareData(valid_X, window_size)\n",
    "    test_X_values = prepareData(test_X, window_size)\n",
    "    \n",
    "    train_Y_values = prepareLabels(train_Y, window_size)\n",
    "    valid_Y_values = prepareLabels(valid_Y, window_size)\n",
    "    test_Y_values = prepareLabels(test_Y, window_size)\n",
    "    \n",
    "    model = Sequential()\n",
    "    model.add(LSTM(window_size, input_shape=(train_X_values.shape[1], train_X_values.shape[2]), dropout=dropout))\n",
    "    model.add(Dense(50))\n",
    "    model.add(Dense(25))\n",
    "    model.add(Dense(10))\n",
    "    model.add(Dense(5))\n",
    "    model.add(Dense(1))\n",
    "    \n",
    "    opt = optimizers.Adam(learning_rate=0.01)\n",
    "    model.compile(loss='binary_crossentropy', optimizer=opt, metrics=['accuracy'])\n",
    "    \n",
    "    history = model.fit(train_X_values, train_Y_values, epochs=10, batch_size=64, validation_data=(valid_X_values, valid_Y_values), verbose=2, shuffle=False)\n",
    "    # plot history\n",
    "    pyplot.plot(history.history['loss'], label='train')\n",
    "    pyplot.plot(history.history['val_loss'], label='test')\n",
    "    pyplot.legend()\n",
    "    pyplot.show()\n",
    "    \n",
    "    print(model.evaluate(test_X_values, test_Y_values))\n",
    "    "
   ]
  },
  {
   "cell_type": "code",
   "execution_count": 134,
   "id": "2c6eb8da",
   "metadata": {},
   "outputs": [
    {
     "name": "stdout",
     "output_type": "stream",
     "text": [
      "Epoch 1/10\n",
      "46/46 - 4s - loss: 3.6696 - accuracy: 0.7614 - val_loss: 8.0038 - val_accuracy: 0.4811 - 4s/epoch - 90ms/step\n",
      "Epoch 2/10\n",
      "46/46 - 2s - loss: 3.6807 - accuracy: 0.7614 - val_loss: 8.0038 - val_accuracy: 0.4811 - 2s/epoch - 53ms/step\n",
      "Epoch 3/10\n",
      "46/46 - 2s - loss: 3.6807 - accuracy: 0.7614 - val_loss: 8.0038 - val_accuracy: 0.4811 - 2s/epoch - 53ms/step\n",
      "Epoch 4/10\n",
      "46/46 - 2s - loss: 3.6807 - accuracy: 0.7614 - val_loss: 8.0038 - val_accuracy: 0.4811 - 2s/epoch - 52ms/step\n",
      "Epoch 5/10\n",
      "46/46 - 2s - loss: 3.6807 - accuracy: 0.7614 - val_loss: 8.0038 - val_accuracy: 0.4811 - 2s/epoch - 52ms/step\n",
      "Epoch 6/10\n",
      "46/46 - 2s - loss: 3.6807 - accuracy: 0.7614 - val_loss: 8.0038 - val_accuracy: 0.4811 - 2s/epoch - 53ms/step\n",
      "Epoch 7/10\n",
      "46/46 - 2s - loss: 3.6807 - accuracy: 0.7614 - val_loss: 8.0038 - val_accuracy: 0.4811 - 2s/epoch - 53ms/step\n",
      "Epoch 8/10\n",
      "46/46 - 2s - loss: 3.6807 - accuracy: 0.7614 - val_loss: 8.0038 - val_accuracy: 0.4811 - 2s/epoch - 53ms/step\n",
      "Epoch 9/10\n",
      "46/46 - 2s - loss: 3.6807 - accuracy: 0.7614 - val_loss: 8.0038 - val_accuracy: 0.4811 - 2s/epoch - 52ms/step\n",
      "Epoch 10/10\n",
      "46/46 - 2s - loss: 3.6807 - accuracy: 0.7614 - val_loss: 8.0038 - val_accuracy: 0.4811 - 2s/epoch - 53ms/step\n"
     ]
    },
    {
     "data": {
      "image/png": "[encoded data removed]",
      "text/plain": [
       "<Figure size 432x288 with 1 Axes>"
      ]
     },
     "metadata": {
      "needs_background": "light"
     },
     "output_type": "display_data"
    },
    {
     "name": "stdout",
     "output_type": "stream",
     "text": [
      "29/29 [==============================] - 0s 12ms/step - loss: 5.0960 - accuracy: 0.6696\n",
      "[5.096047401428223, 0.669623076915741]\n"
     ]
    }
   ],
   "source": [
    "lstm(train_X, train_Y, valid_X, valid_Y, test_X, test_Y, window_size=100, dropout=0.6)"
   ]
  },
  {
   "cell_type": "code",
   "execution_count": null,
   "id": "ac6a010c",
   "metadata": {},
   "outputs": [],
   "source": [
    "model = Sequential()\n",
    "model.add(LSTM(50, input_shape=(50, train_X.shape[2])))\n",
    "model.add(Dense(1))\n",
    "opt = optimizers.Adam(learning_rate=0.01)\n",
    "model.compile(loss='binary_crossentropy', optimizer=opt, metrics=['accuracy'])"
   ]
  },
  {
   "cell_type": "code",
   "execution_count": null,
   "id": "7a1d9135",
   "metadata": {},
   "outputs": [],
   "source": [
    "history = model.fit(train_X, train_Y, epochs=10, batch_size=64, validation_data=(valid_X, valid_Y), verbose=2, shuffle=False)\n",
    "# plot history\n",
    "pyplot.plot(history.history['loss'], label='train')\n",
    "pyplot.plot(history.history['val_loss'], label='test')\n",
    "pyplot.legend()\n",
    "pyplot.show()"
   ]
  },
  {
   "cell_type": "code",
   "execution_count": 62,
   "id": "11aa2055",
   "metadata": {},
   "outputs": [
    {
     "name": "stdout",
     "output_type": "stream",
     "text": [
      "32/32 [==============================] - 0s 9ms/step - loss: 5.3317 - accuracy: 0.6543\n"
     ]
    },
    {
     "data": {
      "text/plain": [
       "[5.331700801849365, 0.6543456315994263]"
      ]
     },
     "execution_count": 62,
     "metadata": {},
     "output_type": "execute_result"
    }
   ],
   "source": [
    "model.evaluate(test_X, test_Y)"
   ]
  },
  {
   "cell_type": "code",
   "execution_count": null,
   "id": "5464ca35",
   "metadata": {},
   "outputs": [],
   "source": []
  }
 ],
 "metadata": {
  "kernelspec": {
   "display_name": "Python 3 (ipykernel)",
   "language": "python",
   "name": "python3"
  },
  "language_info": {
   "codemirror_mode": {
    "name": "ipython",
    "version": 3
   },
   "file_extension": ".py",
   "mimetype": "text/x-python",
   "name": "python",
   "nbconvert_exporter": "python",
   "pygments_lexer": "ipython3",
   "version": "3.9.7"
  }
 },
 "nbformat": 4,
 "nbformat_minor": 5
}
