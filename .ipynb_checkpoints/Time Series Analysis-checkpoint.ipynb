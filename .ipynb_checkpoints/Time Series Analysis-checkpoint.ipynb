{
 "cells": [
  {
   "cell_type": "markdown",
   "id": "17031de6",
   "metadata": {},
   "source": [
    "# Time Series Analysis\n",
    "## Data Gathering"
   ]
  },
  {
   "cell_type": "code",
   "execution_count": 3,
   "id": "ad6a455a",
   "metadata": {},
   "outputs": [],
   "source": [
    "import pandas as pd\n",
    "import os\n",
    "\n",
    "cwd = os.getcwd()"
   ]
  },
  {
   "cell_type": "code",
   "execution_count": 4,
   "id": "6432125f",
   "metadata": {},
   "outputs": [],
   "source": [
    "data_url = [r\"\\Model Data\\X Train.csv\", r\"\\Model Data\\X Test.csv\", r\"\\Model Data\\Y Train.csv\", r\"\\Model Data\\Y Test.csv\"]"
   ]
  },
  {
   "cell_type": "code",
   "execution_count": 21,
   "id": "55d000b2",
   "metadata": {},
   "outputs": [],
   "source": [
    "dataframes = [pd.read_csv(cwd + url) for url in data_url]\n",
    "data_values = dataframes[:2]\n",
    "data_labels = dataframes[2:]\n",
    "\n",
    "data = pd.concat(data_values, ignore_index=True, axis=0)\n",
    "labels = pd.concat(data_labels, ignore_index=True, axis=0)"
   ]
  },
  {
   "cell_type": "markdown",
   "id": "f8c89bda",
   "metadata": {},
   "source": [
    "## Stationary Analysis"
   ]
  },
  {
   "cell_type": "code",
   "execution_count": 22,
   "id": "726d5295",
   "metadata": {},
   "outputs": [
    {
     "data": {
      "text/html": [
       "<div>\n",
       "<style scoped>\n",
       "    .dataframe tbody tr th:only-of-type {\n",
       "        vertical-align: middle;\n",
       "    }\n",
       "\n",
       "    .dataframe tbody tr th {\n",
       "        vertical-align: top;\n",
       "    }\n",
       "\n",
       "    .dataframe thead th {\n",
       "        text-align: right;\n",
       "    }\n",
       "</style>\n",
       "<table border=\"1\" class=\"dataframe\">\n",
       "  <thead>\n",
       "    <tr style=\"text-align: right;\">\n",
       "      <th></th>\n",
       "      <th>temperature</th>\n",
       "      <th>relative_humidity</th>\n",
       "      <th>wind_speed</th>\n",
       "      <th>wind_direction</th>\n",
       "      <th>total_precipitation</th>\n",
       "      <th>volumetric_soil_water_layer_1</th>\n",
       "      <th>Counties_Idx</th>\n",
       "      <th>Started_Date</th>\n",
       "    </tr>\n",
       "  </thead>\n",
       "  <tbody>\n",
       "    <tr>\n",
       "      <th>0</th>\n",
       "      <td>9.53</td>\n",
       "      <td>0.80</td>\n",
       "      <td>2.31</td>\n",
       "      <td>289.30</td>\n",
       "      <td>0.00</td>\n",
       "      <td>0.24</td>\n",
       "      <td>16</td>\n",
       "      <td>2019-02-15</td>\n",
       "    </tr>\n",
       "    <tr>\n",
       "      <th>1</th>\n",
       "      <td>31.33</td>\n",
       "      <td>0.70</td>\n",
       "      <td>1.77</td>\n",
       "      <td>202.78</td>\n",
       "      <td>0.11</td>\n",
       "      <td>0.39</td>\n",
       "      <td>45</td>\n",
       "      <td>2018-06-28</td>\n",
       "    </tr>\n",
       "    <tr>\n",
       "      <th>2</th>\n",
       "      <td>23.03</td>\n",
       "      <td>0.48</td>\n",
       "      <td>3.34</td>\n",
       "      <td>136.20</td>\n",
       "      <td>0.00</td>\n",
       "      <td>0.08</td>\n",
       "      <td>44</td>\n",
       "      <td>2018-08-15</td>\n",
       "    </tr>\n",
       "    <tr>\n",
       "      <th>3</th>\n",
       "      <td>17.85</td>\n",
       "      <td>0.90</td>\n",
       "      <td>1.95</td>\n",
       "      <td>291.47</td>\n",
       "      <td>0.00</td>\n",
       "      <td>0.05</td>\n",
       "      <td>10</td>\n",
       "      <td>2019-07-12</td>\n",
       "    </tr>\n",
       "    <tr>\n",
       "      <th>4</th>\n",
       "      <td>26.57</td>\n",
       "      <td>0.44</td>\n",
       "      <td>4.81</td>\n",
       "      <td>76.10</td>\n",
       "      <td>0.00</td>\n",
       "      <td>0.10</td>\n",
       "      <td>2</td>\n",
       "      <td>2013-07-19</td>\n",
       "    </tr>\n",
       "  </tbody>\n",
       "</table>\n",
       "</div>"
      ],
      "text/plain": [
       "   temperature  relative_humidity  wind_speed  wind_direction  \\\n",
       "0         9.53               0.80        2.31          289.30   \n",
       "1        31.33               0.70        1.77          202.78   \n",
       "2        23.03               0.48        3.34          136.20   \n",
       "3        17.85               0.90        1.95          291.47   \n",
       "4        26.57               0.44        4.81           76.10   \n",
       "\n",
       "   total_precipitation  volumetric_soil_water_layer_1  Counties_Idx  \\\n",
       "0                 0.00                           0.24            16   \n",
       "1                 0.11                           0.39            45   \n",
       "2                 0.00                           0.08            44   \n",
       "3                 0.00                           0.05            10   \n",
       "4                 0.00                           0.10             2   \n",
       "\n",
       "  Started_Date  \n",
       "0   2019-02-15  \n",
       "1   2018-06-28  \n",
       "2   2018-08-15  \n",
       "3   2019-07-12  \n",
       "4   2013-07-19  "
      ]
     },
     "execution_count": 22,
     "metadata": {},
     "output_type": "execute_result"
    }
   ],
   "source": [
    "data.head()"
   ]
  },
  {
   "cell_type": "code",
   "execution_count": null,
   "id": "d8b2ec39",
   "metadata": {},
   "outputs": [],
   "source": []
  }
 ],
 "metadata": {
  "kernelspec": {
   "display_name": "Python 3 (ipykernel)",
   "language": "python",
   "name": "python3"
  },
  "language_info": {
   "codemirror_mode": {
    "name": "ipython",
    "version": 3
   },
   "file_extension": ".py",
   "mimetype": "text/x-python",
   "name": "python",
   "nbconvert_exporter": "python",
   "pygments_lexer": "ipython3",
   "version": "3.9.7"
  }
 },
 "nbformat": 4,
 "nbformat_minor": 5
}
