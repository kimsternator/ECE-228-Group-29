{
 "cells": [
  {
   "cell_type": "code",
   "execution_count": 85,
   "id": "839d4765",
   "metadata": {},
   "outputs": [],
   "source": [
    "from sklearn.linear_model import LogisticRegression\n",
    "from sklearn.model_selection import train_test_split\n",
    "import pandas as pd\n",
    "import os\n",
    "import numpy as np"
   ]
  },
  {
   "cell_type": "code",
   "execution_count": 99,
   "id": "3438be8d",
   "metadata": {},
   "outputs": [],
   "source": [
    "cwd = os.getcwd()\n",
    "columns = ['temperature', 'relative_humidity', 'wind_speed', 'wind_direction', 'total_precipitation', 'volumetric_soil_water_layer_1','Counties_Idx' ]\n",
    "weather_wildfire_data_url = cwd + r\"/Cleaned Data/Weather_California_Fire_Incidents.csv\"\n",
    "fire_data = pd.read_csv(weather_wildfire_data_url)\n",
    "fire_data['Fire'] = 1\n"
   ]
  },
  {
   "cell_type": "code",
   "execution_count": 100,
   "id": "ab692b14",
   "metadata": {},
   "outputs": [
    {
     "name": "stdout",
     "output_type": "stream",
     "text": [
      "      AcresBurned         Counties               Started Started_Date  \\\n",
      "0        257314.0     Tuolumne, CA  2013-08-17T15:25:00Z   2013-08-17   \n",
      "1         30274.0  Los Angeles, CA  2013-05-30T15:28:00Z   2013-05-30   \n",
      "2         27531.0    Riverside, CA  2013-07-15T13:43:00Z   2013-07-15   \n",
      "3         27440.0       Placer, CA  2013-08-10T16:30:00Z   2013-08-10   \n",
      "4         24251.0      Ventura, CA  2013-05-02T07:01:00Z   2013-05-02   \n",
      "...           ...              ...                   ...          ...   \n",
      "1595         10.0    Riverside, CA  2019-09-10T10:43:58Z   2019-09-10   \n",
      "1596         10.0        Butte, CA  2019-07-23T14:41:00Z   2019-07-23   \n",
      "1597         10.0     Siskiyou, CA  2019-06-16T20:33:00Z   2019-06-16   \n",
      "1598         10.0        Butte, CA  2019-04-30T12:20:00Z   2019-04-30   \n",
      "1599          9.0    Riverside, CA  2019-10-10T12:08:00Z   2019-10-10   \n",
      "\n",
      "      Started_Hour  temperature  relative_humidity  wind_speed  \\\n",
      "0               15        21.28               0.29        1.30   \n",
      "1               15        19.81               0.56        1.34   \n",
      "2               13        22.62               0.62        2.77   \n",
      "3               16        19.13               0.30        1.26   \n",
      "4                7        16.40               0.94        0.19   \n",
      "...            ...          ...                ...         ...   \n",
      "1595            10        15.98               0.76        2.76   \n",
      "1596            14        22.70               0.46        2.12   \n",
      "1597            20        23.94               0.36        2.50   \n",
      "1598            12        12.62               0.76        2.86   \n",
      "1599            12        14.45               0.74        7.81   \n",
      "\n",
      "      wind_direction  total_precipitation  volumetric_soil_water_layer_1  Fire  \n",
      "0              58.58                 0.00                           0.13     1  \n",
      "1             174.30                 0.00                           0.07     1  \n",
      "2             256.01                 0.00                           0.10     1  \n",
      "3             204.91                 0.00                           0.22     1  \n",
      "4              81.05                 2.41                           0.45     1  \n",
      "...              ...                  ...                            ...   ...  \n",
      "1595          337.84                 0.03                           0.26     1  \n",
      "1596          102.39                 0.00                           0.16     1  \n",
      "1597          346.02                 0.00                           0.18     1  \n",
      "1598          144.53                 0.00                           0.21     1  \n",
      "1599          235.51                 0.03                           0.28     1  \n",
      "\n",
      "[1600 rows x 12 columns]\n"
     ]
    }
   ],
   "source": [
    "print(fire_data)"
   ]
  },
  {
   "cell_type": "code",
   "execution_count": 101,
   "id": "f90c2ec6",
   "metadata": {},
   "outputs": [],
   "source": [
    "counties = fire_data[\"Counties\"].unique()\n",
    "for county in counties:\n",
    "    fname = f\"{cwd}/Cleaned Data/{county}/{county}_Fire_Incidents.csv\"\n",
    "    df = pd.read_csv(fname)\n",
    "    df[\"Counties\"] = county\n",
    "    df.to_csv(fname, index=False)"
   ]
  },
  {
   "cell_type": "code",
   "execution_count": 102,
   "id": "ea9e9859",
   "metadata": {},
   "outputs": [
    {
     "name": "stdout",
     "output_type": "stream",
     "text": [
      "     Started_Date  temperature  relative_humidity  wind_speed  wind_direction  \\\n",
      "0      2013-01-15         0.01               0.62        2.32           69.71   \n",
      "1      2013-02-15         0.10               0.84        4.28           64.43   \n",
      "2      2013-03-15        10.22               0.76        1.53           55.64   \n",
      "3      2013-04-15         8.15               0.72        0.72          216.74   \n",
      "4      2013-05-15        14.27               0.71        0.86           50.09   \n",
      "...           ...          ...                ...         ...             ...   \n",
      "3394   2019-07-15        23.00               0.66        4.09            9.59   \n",
      "3395   2019-08-15        25.22               0.82        1.67            8.64   \n",
      "3396   2019-09-15        23.63               0.56       11.14           21.09   \n",
      "3397   2019-11-15        18.77               0.76        3.44          166.85   \n",
      "3398   2019-12-15        16.69               0.69        3.25           41.32   \n",
      "\n",
      "      total_precipitation  volumetric_soil_water_layer_1      Counties  Fire  \n",
      "0                     0.0                           0.38  Tuolumne, CA     0  \n",
      "1                     0.0                           0.33  Tuolumne, CA     0  \n",
      "2                     0.0                           0.29  Tuolumne, CA     0  \n",
      "3                     0.0                           0.30  Tuolumne, CA     0  \n",
      "4                     0.0                           0.21  Tuolumne, CA     0  \n",
      "...                   ...                            ...           ...   ...  \n",
      "3394                  0.0                           0.03     Marin, CA     0  \n",
      "3395                  0.0                           0.02     Marin, CA     0  \n",
      "3396                  0.0                           0.02     Marin, CA     0  \n",
      "3397                  0.0                           0.08     Marin, CA     0  \n",
      "3398                  0.0                           0.11     Marin, CA     0  \n",
      "\n",
      "[3399 rows x 9 columns]\n"
     ]
    }
   ],
   "source": [
    "counties = fire_data[\"Counties\"].unique()\n",
    "files = []\n",
    "for county in counties:\n",
    "    fname = f\"{cwd}/Cleaned Data/{county}/{county}_Fire_Incidents.csv\"\n",
    "    files.append(fname)\n",
    "\n",
    "no_fire_data = pd.concat(map(pd.read_csv, files), ignore_index=True)\n",
    "no_fire_data['Fire'] = 0\n",
    "print(no_fire_data)"
   ]
  },
  {
   "cell_type": "code",
   "execution_count": 103,
   "id": "467a8445",
   "metadata": {},
   "outputs": [],
   "source": [
    "data = pd.concat([fire_data, no_fire_data], ignore_index=True, sort=False)\n",
    "url = cwd + r\"/Cleaned Data/Combined_Weather_California_Fire_Incidents.csv\"\n",
    "data.to_csv(url, index=False)"
   ]
  },
  {
   "cell_type": "code",
   "execution_count": 104,
   "id": "3eabac7b",
   "metadata": {},
   "outputs": [
    {
     "name": "stdout",
     "output_type": "stream",
     "text": [
      "      AcresBurned         Counties               Started Started_Date  \\\n",
      "0        257314.0     Tuolumne, CA  2013-08-17T15:25:00Z   2013-08-17   \n",
      "1         30274.0  Los Angeles, CA  2013-05-30T15:28:00Z   2013-05-30   \n",
      "2         27531.0    Riverside, CA  2013-07-15T13:43:00Z   2013-07-15   \n",
      "3         27440.0       Placer, CA  2013-08-10T16:30:00Z   2013-08-10   \n",
      "4         24251.0      Ventura, CA  2013-05-02T07:01:00Z   2013-05-02   \n",
      "...           ...              ...                   ...          ...   \n",
      "4994          NaN        Marin, CA                   NaN   2019-07-15   \n",
      "4995          NaN        Marin, CA                   NaN   2019-08-15   \n",
      "4996          NaN        Marin, CA                   NaN   2019-09-15   \n",
      "4997          NaN        Marin, CA                   NaN   2019-11-15   \n",
      "4998          NaN        Marin, CA                   NaN   2019-12-15   \n",
      "\n",
      "      Started_Hour  temperature  relative_humidity  wind_speed  \\\n",
      "0             15.0        21.28               0.29        1.30   \n",
      "1             15.0        19.81               0.56        1.34   \n",
      "2             13.0        22.62               0.62        2.77   \n",
      "3             16.0        19.13               0.30        1.26   \n",
      "4              7.0        16.40               0.94        0.19   \n",
      "...            ...          ...                ...         ...   \n",
      "4994           NaN        23.00               0.66        4.09   \n",
      "4995           NaN        25.22               0.82        1.67   \n",
      "4996           NaN        23.63               0.56       11.14   \n",
      "4997           NaN        18.77               0.76        3.44   \n",
      "4998           NaN        16.69               0.69        3.25   \n",
      "\n",
      "      wind_direction  total_precipitation  volumetric_soil_water_layer_1  Fire  \n",
      "0              58.58                 0.00                           0.13     1  \n",
      "1             174.30                 0.00                           0.07     1  \n",
      "2             256.01                 0.00                           0.10     1  \n",
      "3             204.91                 0.00                           0.22     1  \n",
      "4              81.05                 2.41                           0.45     1  \n",
      "...              ...                  ...                            ...   ...  \n",
      "4994            9.59                 0.00                           0.03     0  \n",
      "4995            8.64                 0.00                           0.02     0  \n",
      "4996           21.09                 0.00                           0.02     0  \n",
      "4997          166.85                 0.00                           0.08     0  \n",
      "4998           41.32                 0.00                           0.11     0  \n",
      "\n",
      "[4999 rows x 12 columns]\n"
     ]
    }
   ],
   "source": [
    "print(data)"
   ]
  },
  {
   "cell_type": "code",
   "execution_count": 105,
   "id": "eccfd955",
   "metadata": {},
   "outputs": [
    {
     "name": "stdout",
     "output_type": "stream",
     "text": [
      "      AcresBurned         Counties               Started Started_Date  \\\n",
      "0        257314.0     Tuolumne, CA  2013-08-17T15:25:00Z   2013-08-17   \n",
      "1         30274.0  Los Angeles, CA  2013-05-30T15:28:00Z   2013-05-30   \n",
      "2         27531.0    Riverside, CA  2013-07-15T13:43:00Z   2013-07-15   \n",
      "3         27440.0       Placer, CA  2013-08-10T16:30:00Z   2013-08-10   \n",
      "4         24251.0      Ventura, CA  2013-05-02T07:01:00Z   2013-05-02   \n",
      "...           ...              ...                   ...          ...   \n",
      "4994          NaN        Marin, CA                   NaN   2019-07-15   \n",
      "4995          NaN        Marin, CA                   NaN   2019-08-15   \n",
      "4996          NaN        Marin, CA                   NaN   2019-09-15   \n",
      "4997          NaN        Marin, CA                   NaN   2019-11-15   \n",
      "4998          NaN        Marin, CA                   NaN   2019-12-15   \n",
      "\n",
      "      Started_Hour  temperature  relative_humidity  wind_speed  \\\n",
      "0             15.0        21.28               0.29        1.30   \n",
      "1             15.0        19.81               0.56        1.34   \n",
      "2             13.0        22.62               0.62        2.77   \n",
      "3             16.0        19.13               0.30        1.26   \n",
      "4              7.0        16.40               0.94        0.19   \n",
      "...            ...          ...                ...         ...   \n",
      "4994           NaN        23.00               0.66        4.09   \n",
      "4995           NaN        25.22               0.82        1.67   \n",
      "4996           NaN        23.63               0.56       11.14   \n",
      "4997           NaN        18.77               0.76        3.44   \n",
      "4998           NaN        16.69               0.69        3.25   \n",
      "\n",
      "      wind_direction  total_precipitation  volumetric_soil_water_layer_1  \\\n",
      "0              58.58                 0.00                           0.13   \n",
      "1             174.30                 0.00                           0.07   \n",
      "2             256.01                 0.00                           0.10   \n",
      "3             204.91                 0.00                           0.22   \n",
      "4              81.05                 2.41                           0.45   \n",
      "...              ...                  ...                            ...   \n",
      "4994            9.59                 0.00                           0.03   \n",
      "4995            8.64                 0.00                           0.02   \n",
      "4996           21.09                 0.00                           0.02   \n",
      "4997          166.85                 0.00                           0.08   \n",
      "4998           41.32                 0.00                           0.11   \n",
      "\n",
      "      Fire  Counties_Idx  \n",
      "0        1             0  \n",
      "1        1             1  \n",
      "2        1             2  \n",
      "3        1             3  \n",
      "4        1             4  \n",
      "...    ...           ...  \n",
      "4994     0            50  \n",
      "4995     0            50  \n",
      "4996     0            50  \n",
      "4997     0            50  \n",
      "4998     0            50  \n",
      "\n",
      "[4999 rows x 13 columns]\n"
     ]
    }
   ],
   "source": [
    "data['Counties_Idx'] = data.apply (lambda row: np.where(row['Counties'] == counties)[0][0], axis=1)\n",
    "print(data)"
   ]
  },
  {
   "cell_type": "code",
   "execution_count": 106,
   "id": "41feed97",
   "metadata": {},
   "outputs": [],
   "source": [
    "X = data[columns].values\n",
    "y = data[['Fire']].values\n",
    "y = y.reshape(y.shape[0])"
   ]
  },
  {
   "cell_type": "code",
   "execution_count": 107,
   "id": "e94f2142",
   "metadata": {},
   "outputs": [],
   "source": [
    "X_train, X_test, y_train, y_test = train_test_split(X, y, test_size=0.2, random_state=0)"
   ]
  },
  {
   "cell_type": "code",
   "execution_count": 120,
   "id": "029e28de",
   "metadata": {},
   "outputs": [
    {
     "data": {
      "text/plain": [
       "LogisticRegression(max_iter=500)"
      ]
     },
     "execution_count": 120,
     "metadata": {},
     "output_type": "execute_result"
    }
   ],
   "source": [
    "regressor = LogisticRegression(max_iter=500)\n",
    "regressor.fit(X_train, y_train)"
   ]
  },
  {
   "cell_type": "code",
   "execution_count": 121,
   "id": "2a0ff0d7",
   "metadata": {},
   "outputs": [
    {
     "name": "stdout",
     "output_type": "stream",
     "text": [
      "Accuracy of logistic regression classifier on test set: 0.78\n"
     ]
    }
   ],
   "source": [
    "print('Accuracy of logistic regression classifier on test set: {:.2f}'.format(regressor.score(X_test, y_test)))"
   ]
  },
  {
   "cell_type": "code",
   "execution_count": null,
   "id": "0591fc85",
   "metadata": {},
   "outputs": [],
   "source": []
  }
 ],
 "metadata": {
  "kernelspec": {
   "display_name": "Python 3",
   "language": "python",
   "name": "python3"
  },
  "language_info": {
   "codemirror_mode": {
    "name": "ipython",
    "version": 3
   },
   "file_extension": ".py",
   "mimetype": "text/x-python",
   "name": "python",
   "nbconvert_exporter": "python",
   "pygments_lexer": "ipython3",
   "version": "3.8.8"
  }
 },
 "nbformat": 4,
 "nbformat_minor": 5
}
