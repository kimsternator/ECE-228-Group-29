{
 "cells": [
  {
   "cell_type": "code",
   "execution_count": 38,
   "id": "89570f0d",
   "metadata": {},
   "outputs": [],
   "source": [
    "import pandas as pd\n",
    "import numpy as np\n",
    "import os\n",
    "\n",
    "from sklearn import metrics \n",
    "from sklearn.model_selection import cross_val_score\n",
    "from sklearn.model_selection import RepeatedStratifiedKFold\n",
    "from sklearn.ensemble import RandomForestClassifier"
   ]
  },
  {
   "cell_type": "code",
   "execution_count": 11,
   "id": "09ff166d",
   "metadata": {},
   "outputs": [],
   "source": [
    "urls = [f\"\\Model Data\\X Train.csv\", f\"\\Model Data\\Y Train.csv\", f\"\\Model Data\\X Test.csv\", f\"\\Model Data\\Y Test.csv\"]\n",
    "cwd = os.getcwd()"
   ]
  },
  {
   "cell_type": "code",
   "execution_count": 84,
   "id": "c91f59cd",
   "metadata": {},
   "outputs": [],
   "source": [
    "train_X, train_Y, test_X, test_Y = [pd.read_csv(cwd + url) for url in urls]\n",
    "train_X = train_X[[\"temperature\", \"relative_humidity\", \"wind_speed\", \"wind_direction\", \"total_precipitation\", \"volumetric_soil_water_layer_1\"]]\n",
    "test_X = test_X[[\"temperature\", \"relative_humidity\", \"wind_speed\", \"wind_direction\", \"total_precipitation\", \"volumetric_soil_water_layer_1\"]]\n",
    "train_Y = train_Y[\"Fire\"]\n",
    "test_Y = test_Y[\"Fire\"]"
   ]
  },
  {
   "cell_type": "code",
   "execution_count": 85,
   "id": "6f86b7bf",
   "metadata": {},
   "outputs": [
    {
     "data": {
      "text/plain": [
       "RandomForestClassifier(n_estimators=500, random_state=5)"
      ]
     },
     "execution_count": 85,
     "metadata": {},
     "output_type": "execute_result"
    }
   ],
   "source": [
    "clf = RandomForestClassifier(n_estimators = 500, random_state = 5)\n",
    "clf.fit(train_X, train_Y)"
   ]
  },
  {
   "cell_type": "code",
   "execution_count": 92,
   "id": "0538d986",
   "metadata": {},
   "outputs": [
    {
     "name": "stdout",
     "output_type": "stream",
     "text": [
      "Accuracy Score:  0.788\n",
      "Mean Absolute Error: 0.212\n",
      "Mean Squared Error: 0.212\n",
      "Root Mean Squared Error: 0.4604345773288535\n"
     ]
    }
   ],
   "source": [
    "y_pred = clf.predict(test_X)\n",
    "\n",
    "print(\"Accuracy Score: \", metrics.accuracy_score(test_Y, y_pred))\n",
    "print('Mean Absolute Error:', metrics.mean_absolute_error(test_Y, y_pred))\n",
    "print('Mean Squared Error:', metrics.mean_squared_error(test_Y, y_pred))\n",
    "print('Root Mean Squared Error:', np.sqrt(metrics.mean_squared_error(test_Y, y_pred)))"
   ]
  },
  {
   "cell_type": "code",
   "execution_count": 89,
   "id": "d96e14c1",
   "metadata": {},
   "outputs": [
    {
     "data": {
      "text/plain": [
       "temperature                      0.315813\n",
       "relative_humidity                0.175014\n",
       "wind_direction                   0.170663\n",
       "wind_speed                       0.155423\n",
       "volumetric_soil_water_layer_1    0.153518\n",
       "total_precipitation              0.029570\n",
       "dtype: float64"
      ]
     },
     "execution_count": 89,
     "metadata": {},
     "output_type": "execute_result"
    }
   ],
   "source": [
    "pd.Series(clf.feature_importances_, index = train_X.columns).sort_values(ascending = False)"
   ]
  },
  {
   "cell_type": "code",
   "execution_count": null,
   "id": "536bca1f",
   "metadata": {},
   "outputs": [],
   "source": []
  }
 ],
 "metadata": {
  "kernelspec": {
   "display_name": "Python 3 (ipykernel)",
   "language": "python",
   "name": "python3"
  },
  "language_info": {
   "codemirror_mode": {
    "name": "ipython",
    "version": 3
   },
   "file_extension": ".py",
   "mimetype": "text/x-python",
   "name": "python",
   "nbconvert_exporter": "python",
   "pygments_lexer": "ipython3",
   "version": "3.9.7"
  }
 },
 "nbformat": 4,
 "nbformat_minor": 5
}
