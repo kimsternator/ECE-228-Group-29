{
 "cells": [
  {
   "cell_type": "markdown",
   "id": "8f05fb9f",
   "metadata": {},
   "source": [
    "# Time Series Analysis\n",
    "## Data Gathering"
   ]
  },
  {
   "cell_type": "code",
   "execution_count": 94,
   "id": "e51b3abd",
   "metadata": {},
   "outputs": [],
   "source": [
    "import pandas as pd\n",
    "import numpy as np\n",
    "import os\n",
    "\n",
    "cwd = os.getcwd()"
   ]
  },
  {
   "cell_type": "code",
   "execution_count": 4,
   "id": "edf3d0b4",
   "metadata": {},
   "outputs": [],
   "source": [
    "data_url = [r\"\\Model Data\\X Train.csv\", r\"\\Model Data\\X Test.csv\", r\"\\Model Data\\Y Train.csv\", r\"\\Model Data\\Y Test.csv\"]"
   ]
  },
  {
   "cell_type": "code",
   "execution_count": 63,
   "id": "2227669e",
   "metadata": {},
   "outputs": [
    {
     "data": {
      "text/html": [
       "<div>\n",
       "<style scoped>\n",
       "    .dataframe tbody tr th:only-of-type {\n",
       "        vertical-align: middle;\n",
       "    }\n",
       "\n",
       "    .dataframe tbody tr th {\n",
       "        vertical-align: top;\n",
       "    }\n",
       "\n",
       "    .dataframe thead th {\n",
       "        text-align: right;\n",
       "    }\n",
       "</style>\n",
       "<table border=\"1\" class=\"dataframe\">\n",
       "  <thead>\n",
       "    <tr style=\"text-align: right;\">\n",
       "      <th></th>\n",
       "      <th>index</th>\n",
       "      <th>temperature</th>\n",
       "      <th>relative_humidity</th>\n",
       "      <th>wind_speed</th>\n",
       "      <th>wind_direction</th>\n",
       "      <th>total_precipitation</th>\n",
       "      <th>volumetric_soil_water_layer_1</th>\n",
       "      <th>Counties_Idx</th>\n",
       "      <th>Started_Date</th>\n",
       "      <th>Fire</th>\n",
       "    </tr>\n",
       "  </thead>\n",
       "  <tbody>\n",
       "    <tr>\n",
       "      <th>0</th>\n",
       "      <td>1280</td>\n",
       "      <td>-16.93</td>\n",
       "      <td>0.81</td>\n",
       "      <td>4.89</td>\n",
       "      <td>200.34</td>\n",
       "      <td>0.0</td>\n",
       "      <td>0.27</td>\n",
       "      <td>7</td>\n",
       "      <td>2013-01-15</td>\n",
       "      <td>0</td>\n",
       "    </tr>\n",
       "    <tr>\n",
       "      <th>1</th>\n",
       "      <td>90</td>\n",
       "      <td>2.36</td>\n",
       "      <td>0.71</td>\n",
       "      <td>1.57</td>\n",
       "      <td>162.54</td>\n",
       "      <td>0.0</td>\n",
       "      <td>0.32</td>\n",
       "      <td>34</td>\n",
       "      <td>2013-01-15</td>\n",
       "      <td>0</td>\n",
       "    </tr>\n",
       "    <tr>\n",
       "      <th>2</th>\n",
       "      <td>2146</td>\n",
       "      <td>2.80</td>\n",
       "      <td>0.34</td>\n",
       "      <td>2.33</td>\n",
       "      <td>18.64</td>\n",
       "      <td>0.0</td>\n",
       "      <td>0.07</td>\n",
       "      <td>17</td>\n",
       "      <td>2013-01-15</td>\n",
       "      <td>0</td>\n",
       "    </tr>\n",
       "    <tr>\n",
       "      <th>3</th>\n",
       "      <td>2166</td>\n",
       "      <td>0.93</td>\n",
       "      <td>0.76</td>\n",
       "      <td>1.72</td>\n",
       "      <td>145.46</td>\n",
       "      <td>0.0</td>\n",
       "      <td>0.34</td>\n",
       "      <td>33</td>\n",
       "      <td>2013-01-15</td>\n",
       "      <td>0</td>\n",
       "    </tr>\n",
       "    <tr>\n",
       "      <th>4</th>\n",
       "      <td>2219</td>\n",
       "      <td>4.85</td>\n",
       "      <td>0.42</td>\n",
       "      <td>1.99</td>\n",
       "      <td>49.09</td>\n",
       "      <td>0.0</td>\n",
       "      <td>0.08</td>\n",
       "      <td>43</td>\n",
       "      <td>2013-01-15</td>\n",
       "      <td>0</td>\n",
       "    </tr>\n",
       "  </tbody>\n",
       "</table>\n",
       "</div>"
      ],
      "text/plain": [
       "   index  temperature  relative_humidity  wind_speed  wind_direction  \\\n",
       "0   1280       -16.93               0.81        4.89          200.34   \n",
       "1     90         2.36               0.71        1.57          162.54   \n",
       "2   2146         2.80               0.34        2.33           18.64   \n",
       "3   2166         0.93               0.76        1.72          145.46   \n",
       "4   2219         4.85               0.42        1.99           49.09   \n",
       "\n",
       "   total_precipitation  volumetric_soil_water_layer_1  Counties_Idx  \\\n",
       "0                  0.0                           0.27             7   \n",
       "1                  0.0                           0.32            34   \n",
       "2                  0.0                           0.07            17   \n",
       "3                  0.0                           0.34            33   \n",
       "4                  0.0                           0.08            43   \n",
       "\n",
       "  Started_Date  Fire  \n",
       "0   2013-01-15     0  \n",
       "1   2013-01-15     0  \n",
       "2   2013-01-15     0  \n",
       "3   2013-01-15     0  \n",
       "4   2013-01-15     0  "
      ]
     },
     "execution_count": 63,
     "metadata": {},
     "output_type": "execute_result"
    }
   ],
   "source": [
    "dataframes = [pd.read_csv(cwd + url) for url in data_url]\n",
    "data_values = dataframes[:2]\n",
    "data_labels = dataframes[2:]\n",
    "\n",
    "data = pd.concat(data_values, ignore_index=True, axis=0)\n",
    "labels = pd.concat(data_labels, ignore_index=True, axis=0)\n",
    "\n",
    "chrono_data = data.sort_values(by=['Started_Date']).reset_index()\n",
    "chrono_data.head()"
   ]
  },
  {
   "cell_type": "markdown",
   "id": "7ef23142",
   "metadata": {},
   "source": [
    "## Stationary Analysis"
   ]
  },
  {
   "cell_type": "code",
   "execution_count": 52,
   "id": "e6f22a13",
   "metadata": {},
   "outputs": [],
   "source": [
    "from statsmodels.tsa.vector_ar.vecm import coint_johansen\n",
    "from statsmodels.tsa.vector_ar.var_model import VAR"
   ]
  },
  {
   "cell_type": "code",
   "execution_count": 61,
   "id": "44ca68f1",
   "metadata": {},
   "outputs": [
    {
     "name": "stdout",
     "output_type": "stream",
     "text": [
      "Trace Stat: [12206.57315723 10150.27018816  8214.5754269   6322.2536129\n",
      "  4465.57901224  2732.54874589  1103.61414314   198.69333494\n",
      "    19.61521487]\n",
      "\n",
      "Eig Stat:  [0.33734945 0.32116106 0.31524323 0.3103409  0.29306329 0.27818219\n",
      " 0.16564209 0.03520258 0.0039177 ]\n"
     ]
    }
   ],
   "source": [
    "# null hypothesis that there isn't a statistically significant connection between out time series\n",
    "\n",
    "jTestResult = coint_johansen(chrono_data.drop([\"Started_Date\"], axis=1), -1, 1)\n",
    "print(\"Trace Stat:\", jTestResult.trace_stat, end=\"\\n\\n\")\n",
    "print(\"Eig Stat: \", jTestResult.eig)\n",
    "\n",
    "# Can reject the null hypothesis with 95% confidence for both trace and Eig Stat"
   ]
  },
  {
   "cell_type": "code",
   "execution_count": 62,
   "id": "6bc7e8fc",
   "metadata": {},
   "outputs": [],
   "source": [
    "train_data = chrono_data.drop([\"Started_Date\"], axis=1)[:int(0.8 * len(chrono_data))]\n",
    "valid_data = chrono_data.drop([\"Started_Date\"], axis=1)[int(0.8 * len(chrono_data)):]"
   ]
  },
  {
   "cell_type": "markdown",
   "id": "f6abb0aa",
   "metadata": {},
   "source": [
    "## LSTM "
   ]
  },
  {
   "cell_type": "code",
   "execution_count": 145,
   "id": "8cc4124e",
   "metadata": {},
   "outputs": [],
   "source": [
    "from matplotlib import pyplot\n",
    "from math import sqrt\n",
    "from sklearn.metrics import mean_squared_error\n",
    "\n",
    "from keras.models import Sequential\n",
    "from keras.layers import Dense\n",
    "from keras.layers import LSTM\n",
    "from tensorflow.keras import optimizers"
   ]
  },
  {
   "cell_type": "code",
   "execution_count": 157,
   "id": "01e0f43d",
   "metadata": {},
   "outputs": [],
   "source": [
    "train_data, test_data = chrono_data.drop([\"Started_Date\"], axis=1)[:int(0.8 * len(chrono_data))], chrono_data.drop([\"Started_Date\"], axis=1)[int(0.8 * len(chrono_data)):]\n",
    "\n",
    "train_X, train_Y = train_data[train_data.columns[~train_data.columns.isin([\"Started_Date\", \"Fire\"])]], train_data[[\"Fire\"]]\n",
    "test_X, test_Y = test_data[test_data.columns[~test_data.columns.isin([\"Started_Date\", \"Fire\"])]], test_data[[\"Fire\"]]\n",
    "\n",
    "train_X_values = train_X.values\n",
    "train_X = train_X_values.reshape((train_X.shape[0], 1, train_X.shape[1]))\n",
    "\n",
    "train_Y_values = train_Y.values\n",
    "train_Y = train_Y_values.reshape(train_Y.shape[0])\n",
    "\n",
    "test_X_values = test_X.values\n",
    "test_X = test_X_values.reshape((test_X.shape[0], 1, test_X.shape[1]))\n",
    "\n",
    "test_Y_values = test_Y.values\n",
    "test_Y = test_Y_values.reshape(test_Y.shape[0])"
   ]
  },
  {
   "cell_type": "code",
   "execution_count": 172,
   "id": "ac6a010c",
   "metadata": {},
   "outputs": [],
   "source": [
    "model = Sequential()\n",
    "model.add(LSTM(500, input_shape=(train_X.shape[1], train_X.shape[2])))\n",
    "model.add(Dense(1))\n",
    "opt = optimizers.Adam(learning_rate=0.001)\n",
    "model.compile(loss='mse', optimizer=opt)"
   ]
  },
  {
   "cell_type": "code",
   "execution_count": 173,
   "id": "7a1d9135",
   "metadata": {},
   "outputs": [
    {
     "name": "stdout",
     "output_type": "stream",
     "text": [
      "Epoch 1/10\n",
      "63/63 - 2s - loss: 0.2570 - val_loss: 0.2600 - 2s/epoch - 31ms/step\n",
      "Epoch 2/10\n",
      "63/63 - 0s - loss: 0.2272 - val_loss: 0.2557 - 481ms/epoch - 8ms/step\n",
      "Epoch 3/10\n",
      "63/63 - 0s - loss: 0.2242 - val_loss: 0.2479 - 490ms/epoch - 8ms/step\n",
      "Epoch 4/10\n",
      "63/63 - 0s - loss: 0.2276 - val_loss: 0.2437 - 475ms/epoch - 8ms/step\n",
      "Epoch 5/10\n",
      "63/63 - 0s - loss: 0.2239 - val_loss: 0.2466 - 488ms/epoch - 8ms/step\n",
      "Epoch 6/10\n",
      "63/63 - 0s - loss: 0.2215 - val_loss: 0.2435 - 498ms/epoch - 8ms/step\n",
      "Epoch 7/10\n",
      "63/63 - 1s - loss: 0.2209 - val_loss: 0.2424 - 505ms/epoch - 8ms/step\n",
      "Epoch 8/10\n",
      "63/63 - 0s - loss: 0.2205 - val_loss: 0.2433 - 483ms/epoch - 8ms/step\n",
      "Epoch 9/10\n",
      "63/63 - 0s - loss: 0.2201 - val_loss: 0.2466 - 484ms/epoch - 8ms/step\n",
      "Epoch 10/10\n",
      "63/63 - 0s - loss: 0.2183 - val_loss: 0.2467 - 485ms/epoch - 8ms/step\n"
     ]
    },
    {
     "data": {
      "image/png": "[encoded data removed]",
      "text/plain": [
       "<Figure size 432x288 with 1 Axes>"
      ]
     },
     "metadata": {
      "needs_background": "light"
     },
     "output_type": "display_data"
    }
   ],
   "source": [
    "history = model.fit(train_X, train_Y, epochs=10, batch_size=64, validation_data=(test_X, test_Y), verbose=2, shuffle=False)\n",
    "# plot history\n",
    "pyplot.plot(history.history['loss'], label='train')\n",
    "pyplot.plot(history.history['val_loss'], label='test')\n",
    "pyplot.legend()\n",
    "pyplot.show()"
   ]
  },
  {
   "cell_type": "code",
   "execution_count": 175,
   "id": "11aa2055",
   "metadata": {},
   "outputs": [
    {
     "name": "stdout",
     "output_type": "stream",
     "text": [
      "Test RMSE: 0.497\n"
     ]
    }
   ],
   "source": [
    "# make a prediction\n",
    "yhat = model.predict(test_X)\n",
    "# test_X = test_X.reshape((test_X.shape[0], test_X.shape[2]))\n",
    "# # invert scaling for forecast\n",
    "# inv_yhat = np.concatenate((yhat, test_X[:, 1:]), axis=1)\n",
    "# inv_yhat = scaler.inverse_transform(inv_yhat)\n",
    "# inv_yhat = inv_yhat[:,0]\n",
    "# # invert scaling for actual\n",
    "# test_y = test_y.reshape((len(test_y), 1))\n",
    "# inv_y = concatenate((test_y, test_X[:, 1:]), axis=1)\n",
    "# inv_y = scaler.inverse_transform(inv_y)\n",
    "# inv_y = inv_y[:,0]\n",
    "# calculate RMSE\n",
    "rmse = sqrt(mean_squared_error(test_Y, yhat))\n",
    "print('Test RMSE: %.3f' % rmse)"
   ]
  },
  {
   "cell_type": "code",
   "execution_count": null,
   "id": "279e3a0f",
   "metadata": {},
   "outputs": [],
   "source": []
  }
 ],
 "metadata": {
  "kernelspec": {
   "display_name": "Python 3 (ipykernel)",
   "language": "python",
   "name": "python3"
  },
  "language_info": {
   "codemirror_mode": {
    "name": "ipython",
    "version": 3
   },
   "file_extension": ".py",
   "mimetype": "text/x-python",
   "name": "python",
   "nbconvert_exporter": "python",
   "pygments_lexer": "ipython3",
   "version": "3.9.7"
  }
 },
 "nbformat": 4,
 "nbformat_minor": 5
}
