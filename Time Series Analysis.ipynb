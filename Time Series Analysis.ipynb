{
 "cells": [
  {
   "cell_type": "markdown",
   "id": "8f05fb9f",
   "metadata": {},
   "source": [
    "# Time Series Analysis\n",
    "## Data Gathering"
   ]
  },
  {
   "cell_type": "code",
   "execution_count": 1,
   "id": "e51b3abd",
   "metadata": {},
   "outputs": [],
   "source": [
    "import pandas as pd\n",
    "import numpy as np\n",
    "import os\n",
    "\n",
    "cwd = os.getcwd()"
   ]
  },
  {
   "cell_type": "code",
   "execution_count": 4,
   "id": "edf3d0b4",
   "metadata": {},
   "outputs": [],
   "source": [
    "data_url = [r\"\\Model Data\\X Train.csv\", r\"\\Model Data\\X Test.csv\", r\"\\Model Data\\Y Train.csv\", r\"\\Model Data\\Y Test.csv\"]"
   ]
  },
  {
   "cell_type": "code",
   "execution_count": 52,
   "id": "2227669e",
   "metadata": {},
   "outputs": [
    {
     "data": {
      "text/html": [
       "<div>\n",
       "<style scoped>\n",
       "    .dataframe tbody tr th:only-of-type {\n",
       "        vertical-align: middle;\n",
       "    }\n",
       "\n",
       "    .dataframe tbody tr th {\n",
       "        vertical-align: top;\n",
       "    }\n",
       "\n",
       "    .dataframe thead th {\n",
       "        text-align: right;\n",
       "    }\n",
       "</style>\n",
       "<table border=\"1\" class=\"dataframe\">\n",
       "  <thead>\n",
       "    <tr style=\"text-align: right;\">\n",
       "      <th></th>\n",
       "      <th>temperature</th>\n",
       "      <th>relative_humidity</th>\n",
       "      <th>wind_speed</th>\n",
       "      <th>wind_direction</th>\n",
       "      <th>total_precipitation</th>\n",
       "      <th>volumetric_soil_water_layer_1</th>\n",
       "      <th>Started_Date</th>\n",
       "      <th>Fire</th>\n",
       "    </tr>\n",
       "  </thead>\n",
       "  <tbody>\n",
       "    <tr>\n",
       "      <th>0</th>\n",
       "      <td>-16.93</td>\n",
       "      <td>0.81</td>\n",
       "      <td>4.89</td>\n",
       "      <td>200.34</td>\n",
       "      <td>0.0</td>\n",
       "      <td>0.27</td>\n",
       "      <td>2013-01-15</td>\n",
       "      <td>0</td>\n",
       "    </tr>\n",
       "    <tr>\n",
       "      <th>1</th>\n",
       "      <td>2.36</td>\n",
       "      <td>0.71</td>\n",
       "      <td>1.57</td>\n",
       "      <td>162.54</td>\n",
       "      <td>0.0</td>\n",
       "      <td>0.32</td>\n",
       "      <td>2013-01-15</td>\n",
       "      <td>0</td>\n",
       "    </tr>\n",
       "    <tr>\n",
       "      <th>2</th>\n",
       "      <td>2.80</td>\n",
       "      <td>0.34</td>\n",
       "      <td>2.33</td>\n",
       "      <td>18.64</td>\n",
       "      <td>0.0</td>\n",
       "      <td>0.07</td>\n",
       "      <td>2013-01-15</td>\n",
       "      <td>0</td>\n",
       "    </tr>\n",
       "    <tr>\n",
       "      <th>3</th>\n",
       "      <td>0.93</td>\n",
       "      <td>0.76</td>\n",
       "      <td>1.72</td>\n",
       "      <td>145.46</td>\n",
       "      <td>0.0</td>\n",
       "      <td>0.34</td>\n",
       "      <td>2013-01-15</td>\n",
       "      <td>0</td>\n",
       "    </tr>\n",
       "    <tr>\n",
       "      <th>4</th>\n",
       "      <td>4.85</td>\n",
       "      <td>0.42</td>\n",
       "      <td>1.99</td>\n",
       "      <td>49.09</td>\n",
       "      <td>0.0</td>\n",
       "      <td>0.08</td>\n",
       "      <td>2013-01-15</td>\n",
       "      <td>0</td>\n",
       "    </tr>\n",
       "  </tbody>\n",
       "</table>\n",
       "</div>"
      ],
      "text/plain": [
       "   temperature  relative_humidity  wind_speed  wind_direction  \\\n",
       "0       -16.93               0.81        4.89          200.34   \n",
       "1         2.36               0.71        1.57          162.54   \n",
       "2         2.80               0.34        2.33           18.64   \n",
       "3         0.93               0.76        1.72          145.46   \n",
       "4         4.85               0.42        1.99           49.09   \n",
       "\n",
       "   total_precipitation  volumetric_soil_water_layer_1 Started_Date  Fire  \n",
       "0                  0.0                           0.27   2013-01-15     0  \n",
       "1                  0.0                           0.32   2013-01-15     0  \n",
       "2                  0.0                           0.07   2013-01-15     0  \n",
       "3                  0.0                           0.34   2013-01-15     0  \n",
       "4                  0.0                           0.08   2013-01-15     0  "
      ]
     },
     "execution_count": 52,
     "metadata": {},
     "output_type": "execute_result"
    }
   ],
   "source": [
    "dataframes = [pd.read_csv(cwd + url) for url in data_url]\n",
    "data_values = dataframes[:2]\n",
    "data_labels = dataframes[2:]\n",
    "\n",
    "data = pd.concat(data_values, ignore_index=True, axis=0)\n",
    "labels = pd.concat(data_labels, ignore_index=True, axis=0)\n",
    "\n",
    "joined_data = pd.concat([data, labels], axis=1)\n",
    "joined_data = joined_data[joined_data.columns[~joined_data.columns.isin([\"Counties_Idx\"])]]\n",
    "\n",
    "chrono_data = joined_data.sort_values(by=['Started_Date']).reset_index(drop=True)\n",
    "chrono_data.head()"
   ]
  },
  {
   "cell_type": "markdown",
   "id": "7ef23142",
   "metadata": {},
   "source": [
    "## Stationary Analysis"
   ]
  },
  {
   "cell_type": "code",
   "execution_count": 2,
   "id": "e6f22a13",
   "metadata": {},
   "outputs": [],
   "source": [
    "from statsmodels.tsa.vector_ar.vecm import coint_johansen\n",
    "from statsmodels.tsa.vector_ar.var_model import VAR"
   ]
  },
  {
   "cell_type": "code",
   "execution_count": 61,
   "id": "44ca68f1",
   "metadata": {},
   "outputs": [
    {
     "name": "stdout",
     "output_type": "stream",
     "text": [
      "Trace Stat: [12206.57315723 10150.27018816  8214.5754269   6322.2536129\n",
      "  4465.57901224  2732.54874589  1103.61414314   198.69333494\n",
      "    19.61521487]\n",
      "\n",
      "Eig Stat:  [0.33734945 0.32116106 0.31524323 0.3103409  0.29306329 0.27818219\n",
      " 0.16564209 0.03520258 0.0039177 ]\n"
     ]
    }
   ],
   "source": [
    "# null hypothesis that there isn't a statistically significant connection between out time series\n",
    "\n",
    "jTestResult = coint_johansen(chrono_data.drop([\"Started_Date\"], axis=1), -1, 1)\n",
    "print(\"Trace Stat:\", jTestResult.trace_stat, end=\"\\n\\n\")\n",
    "print(\"Eig Stat: \", jTestResult.eig)\n",
    "\n",
    "# Can reject the null hypothesis with 95% confidence for both trace and Eig Stat"
   ]
  },
  {
   "cell_type": "code",
   "execution_count": 62,
   "id": "6bc7e8fc",
   "metadata": {},
   "outputs": [],
   "source": [
    "train_data = chrono_data.drop([\"Started_Date\"], axis=1)[:int(0.8 * len(chrono_data))]\n",
    "valid_data = chrono_data.drop([\"Started_Date\"], axis=1)[int(0.8 * len(chrono_data)):]"
   ]
  },
  {
   "cell_type": "markdown",
   "id": "f6abb0aa",
   "metadata": {},
   "source": [
    "## LSTM "
   ]
  },
  {
   "cell_type": "code",
   "execution_count": 3,
   "id": "8cc4124e",
   "metadata": {},
   "outputs": [],
   "source": [
    "from matplotlib import pyplot\n",
    "from math import sqrt\n",
    "from sklearn.metrics import mean_squared_error\n",
    "\n",
    "from keras.models import Sequential\n",
    "from keras.layers import Dense\n",
    "from keras.layers import LSTM\n",
    "from tensorflow.keras import optimizers"
   ]
  },
  {
   "cell_type": "code",
   "execution_count": 63,
   "id": "01e0f43d",
   "metadata": {},
   "outputs": [
    {
     "name": "stdout",
     "output_type": "stream",
     "text": [
      "Counter({0: 2306, 1: 693})\n",
      "Counter({0: 655, 1: 346})\n",
      "Counter({0: 655, 1: 346})\n",
      "(2999, 1, 6)\n"
     ]
    }
   ],
   "source": [
    "trainEnd = int(0.6 * len(chrono_data))\n",
    "validEnd = trainEnd + int(0.2 * len(chrono_data))\n",
    "\n",
    "train_data = chrono_data.drop([\"Started_Date\"], axis=1)[:trainEnd]\n",
    "valid_data = chrono_data.drop([\"Started_Date\"], axis=1)[trainEnd:validEnd]\n",
    "test_data = chrono_data.drop([\"Started_Date\"], axis=1)[validEnd:]\n",
    "\n",
    "train_X, train_Y = train_data[train_data.columns[~train_data.columns.isin([\"Started_Date\", \"Fire\"])]], train_data[[\"Fire\"]]\n",
    "valid_X, valid_Y = test_data[test_data.columns[~test_data.columns.isin([\"Started_Date\", \"Fire\"])]], test_data[[\"Fire\"]]\n",
    "test_X, test_Y = test_data[test_data.columns[~test_data.columns.isin([\"Started_Date\", \"Fire\"])]], test_data[[\"Fire\"]]\n",
    "\n",
    "train_X_values = train_X.values\n",
    "train_X = train_X_values.reshape((train_X.shape[0], 1, train_X.shape[1]))\n",
    "\n",
    "train_Y_values = train_Y.values\n",
    "train_Y = train_Y_values.reshape(train_Y.shape[0])\n",
    "\n",
    "valid_X_values = valid_X.values\n",
    "valid_X = valid_X_values.reshape((valid_X.shape[0], 1, valid_X.shape[1]))\n",
    "\n",
    "valid_Y_values = valid_Y.values\n",
    "valid_Y = valid_Y_values.reshape(valid_Y.shape[0])\n",
    "\n",
    "test_X_values = test_X.values\n",
    "test_X = test_X_values.reshape((test_X.shape[0], 1, test_X.shape[1]))\n",
    "\n",
    "test_Y_values = test_Y.values\n",
    "test_Y = test_Y_values.reshape(test_Y.shape[0])\n",
    "\n",
    "from collections import Counter\n",
    "\n",
    "print(Counter(train_Y))\n",
    "print(Counter(valid_Y))\n",
    "print(Counter(test_Y))\n",
    "print(train_X.shape)"
   ]
  },
  {
   "cell_type": "code",
   "execution_count": 57,
   "id": "ac6a010c",
   "metadata": {},
   "outputs": [],
   "source": [
    "model = Sequential()\n",
    "model.add(LSTM(500, input_shape=(train_X.shape[1], train_X.shape[2])))\n",
    "model.add(Dense(1))\n",
    "opt = optimizers.Adam(learning_rate=0.01)\n",
    "model.compile(loss='binary_crossentropy', optimizer=opt, metrics=['accuracy'])"
   ]
  },
  {
   "cell_type": "code",
   "execution_count": 58,
   "id": "7a1d9135",
   "metadata": {},
   "outputs": [
    {
     "name": "stdout",
     "output_type": "stream",
     "text": [
      "Epoch 1/10\n",
      "47/47 - 6s - loss: 3.5651 - accuracy: 0.7686 - val_loss: 5.3317 - val_accuracy: 0.6543 - 6s/epoch - 135ms/step\n",
      "Epoch 2/10\n",
      "47/47 - 1s - loss: 3.5644 - accuracy: 0.7689 - val_loss: 5.3317 - val_accuracy: 0.6543 - 1s/epoch - 22ms/step\n",
      "Epoch 3/10\n",
      "47/47 - 1s - loss: 3.5644 - accuracy: 0.7689 - val_loss: 5.3317 - val_accuracy: 0.6543 - 1s/epoch - 22ms/step\n",
      "Epoch 4/10\n",
      "47/47 - 1s - loss: 3.5644 - accuracy: 0.7689 - val_loss: 5.3317 - val_accuracy: 0.6543 - 1s/epoch - 22ms/step\n",
      "Epoch 5/10\n",
      "47/47 - 1s - loss: 3.5644 - accuracy: 0.7689 - val_loss: 5.3317 - val_accuracy: 0.6543 - 1s/epoch - 23ms/step\n",
      "Epoch 6/10\n",
      "47/47 - 1s - loss: 3.5644 - accuracy: 0.7689 - val_loss: 5.3317 - val_accuracy: 0.6543 - 1s/epoch - 22ms/step\n",
      "Epoch 7/10\n",
      "47/47 - 1s - loss: 3.5644 - accuracy: 0.7689 - val_loss: 5.3317 - val_accuracy: 0.6543 - 1s/epoch - 22ms/step\n",
      "Epoch 8/10\n",
      "47/47 - 1s - loss: 3.5644 - accuracy: 0.7689 - val_loss: 5.3317 - val_accuracy: 0.6543 - 1s/epoch - 22ms/step\n",
      "Epoch 9/10\n",
      "47/47 - 1s - loss: 3.5644 - accuracy: 0.7689 - val_loss: 5.3317 - val_accuracy: 0.6543 - 1s/epoch - 22ms/step\n",
      "Epoch 10/10\n",
      "47/47 - 1s - loss: 3.5644 - accuracy: 0.7689 - val_loss: 5.3317 - val_accuracy: 0.6543 - 1s/epoch - 25ms/step\n"
     ]
    },
    {
     "data": {
      "image/png": "[encoded data removed]",
      "text/plain": [
       "<Figure size 432x288 with 1 Axes>"
      ]
     },
     "metadata": {
      "needs_background": "light"
     },
     "output_type": "display_data"
    }
   ],
   "source": [
    "history = model.fit(train_X, train_Y, epochs=10, batch_size=64, validation_data=(valid_X, valid_Y), verbose=2, shuffle=False)\n",
    "# plot history\n",
    "pyplot.plot(history.history['loss'], label='train')\n",
    "pyplot.plot(history.history['val_loss'], label='test')\n",
    "pyplot.legend()\n",
    "pyplot.show()"
   ]
  },
  {
   "cell_type": "code",
   "execution_count": 62,
   "id": "11aa2055",
   "metadata": {},
   "outputs": [
    {
     "name": "stdout",
     "output_type": "stream",
     "text": [
      "32/32 [==============================] - 0s 9ms/step - loss: 5.3317 - accuracy: 0.6543\n"
     ]
    },
    {
     "data": {
      "text/plain": [
       "[5.331700801849365, 0.6543456315994263]"
      ]
     },
     "execution_count": 62,
     "metadata": {},
     "output_type": "execute_result"
    }
   ],
   "source": [
    "model.evaluate(test_X, test_Y)"
   ]
  },
  {
   "cell_type": "code",
   "execution_count": null,
   "id": "5464ca35",
   "metadata": {},
   "outputs": [],
   "source": []
  }
 ],
 "metadata": {
  "kernelspec": {
   "display_name": "Python 3 (ipykernel)",
   "language": "python",
   "name": "python3"
  },
  "language_info": {
   "codemirror_mode": {
    "name": "ipython",
    "version": 3
   },
   "file_extension": ".py",
   "mimetype": "text/x-python",
   "name": "python",
   "nbconvert_exporter": "python",
   "pygments_lexer": "ipython3",
   "version": "3.9.7"
  }
 },
 "nbformat": 4,
 "nbformat_minor": 5
}
