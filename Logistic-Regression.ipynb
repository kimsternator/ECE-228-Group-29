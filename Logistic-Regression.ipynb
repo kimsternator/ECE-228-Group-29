{
 "cells": [
  {
   "cell_type": "code",
   "execution_count": 89,
   "id": "839d4765",
   "metadata": {},
   "outputs": [],
   "source": [
    "from sklearn.linear_model import LogisticRegression\n",
    "from sklearn.model_selection import train_test_split\n",
    "import pandas as pd\n",
    "import os\n",
    "import numpy as np\n",
    "import torch\n",
    "import torch.optim as optim\n",
    "import torch.nn as nn"
   ]
  },
  {
   "cell_type": "markdown",
   "id": "df89c078",
   "metadata": {},
   "source": [
    "## Data Processing"
   ]
  },
  {
   "cell_type": "code",
   "execution_count": 2,
   "id": "3438be8d",
   "metadata": {},
   "outputs": [],
   "source": [
    "cwd = os.getcwd()\n",
    "columns = ['temperature', 'relative_humidity', 'wind_speed', 'wind_direction', 'total_precipitation', 'volumetric_soil_water_layer_1','Counties_Idx' ]\n",
    "weather_wildfire_data_url = cwd + r\"/Cleaned Data/Weather_California_Fire_Incidents.csv\"\n",
    "fire_data = pd.read_csv(weather_wildfire_data_url)\n",
    "fire_data['Fire'] = 1\n"
   ]
  },
  {
   "cell_type": "code",
   "execution_count": 3,
   "id": "ab692b14",
   "metadata": {},
   "outputs": [
    {
     "name": "stdout",
     "output_type": "stream",
     "text": [
      "      AcresBurned         Counties               Started Started_Date  \\\n",
      "0        257314.0     Tuolumne, CA  2013-08-17T15:25:00Z   2013-08-17   \n",
      "1         30274.0  Los Angeles, CA  2013-05-30T15:28:00Z   2013-05-30   \n",
      "2         27531.0    Riverside, CA  2013-07-15T13:43:00Z   2013-07-15   \n",
      "3         27440.0       Placer, CA  2013-08-10T16:30:00Z   2013-08-10   \n",
      "4         24251.0      Ventura, CA  2013-05-02T07:01:00Z   2013-05-02   \n",
      "...           ...              ...                   ...          ...   \n",
      "1595         10.0    Riverside, CA  2019-09-10T10:43:58Z   2019-09-10   \n",
      "1596         10.0        Butte, CA  2019-07-23T14:41:00Z   2019-07-23   \n",
      "1597         10.0     Siskiyou, CA  2019-06-16T20:33:00Z   2019-06-16   \n",
      "1598         10.0        Butte, CA  2019-04-30T12:20:00Z   2019-04-30   \n",
      "1599          9.0    Riverside, CA  2019-10-10T12:08:00Z   2019-10-10   \n",
      "\n",
      "      Started_Hour  temperature  relative_humidity  wind_speed  \\\n",
      "0               15        21.28               0.29        1.30   \n",
      "1               15        19.81               0.56        1.34   \n",
      "2               13        22.62               0.62        2.77   \n",
      "3               16        19.13               0.30        1.26   \n",
      "4                7        16.40               0.94        0.19   \n",
      "...            ...          ...                ...         ...   \n",
      "1595            10        15.98               0.76        2.76   \n",
      "1596            14        22.70               0.46        2.12   \n",
      "1597            20        23.94               0.36        2.50   \n",
      "1598            12        12.62               0.76        2.86   \n",
      "1599            12        14.45               0.74        7.81   \n",
      "\n",
      "      wind_direction  total_precipitation  volumetric_soil_water_layer_1  Fire  \n",
      "0              58.58                 0.00                           0.13     1  \n",
      "1             174.30                 0.00                           0.07     1  \n",
      "2             256.01                 0.00                           0.10     1  \n",
      "3             204.91                 0.00                           0.22     1  \n",
      "4              81.05                 2.41                           0.45     1  \n",
      "...              ...                  ...                            ...   ...  \n",
      "1595          337.84                 0.03                           0.26     1  \n",
      "1596          102.39                 0.00                           0.16     1  \n",
      "1597          346.02                 0.00                           0.18     1  \n",
      "1598          144.53                 0.00                           0.21     1  \n",
      "1599          235.51                 0.03                           0.28     1  \n",
      "\n",
      "[1600 rows x 12 columns]\n"
     ]
    }
   ],
   "source": [
    "print(fire_data)"
   ]
  },
  {
   "cell_type": "code",
   "execution_count": 4,
   "id": "f90c2ec6",
   "metadata": {},
   "outputs": [],
   "source": [
    "counties = fire_data[\"Counties\"].unique()\n",
    "for county in counties:\n",
    "    fname = f\"{cwd}/Cleaned Data/{county}/{county}_Fire_Incidents.csv\"\n",
    "    df = pd.read_csv(fname)\n",
    "    df[\"Counties\"] = county\n",
    "    df.to_csv(fname, index=False)"
   ]
  },
  {
   "cell_type": "code",
   "execution_count": 5,
   "id": "ea9e9859",
   "metadata": {},
   "outputs": [
    {
     "name": "stdout",
     "output_type": "stream",
     "text": [
      "     Started_Date  temperature  relative_humidity  wind_speed  wind_direction  \\\n",
      "0      2013-01-15         0.01               0.62        2.32           69.71   \n",
      "1      2013-02-15         0.10               0.84        4.28           64.43   \n",
      "2      2013-03-15        10.22               0.76        1.53           55.64   \n",
      "3      2013-04-15         8.15               0.72        0.72          216.74   \n",
      "4      2013-05-15        14.27               0.71        0.86           50.09   \n",
      "...           ...          ...                ...         ...             ...   \n",
      "3394   2019-07-15        23.00               0.66        4.09            9.59   \n",
      "3395   2019-08-15        25.22               0.82        1.67            8.64   \n",
      "3396   2019-09-15        23.63               0.56       11.14           21.09   \n",
      "3397   2019-11-15        18.77               0.76        3.44          166.85   \n",
      "3398   2019-12-15        16.69               0.69        3.25           41.32   \n",
      "\n",
      "      total_precipitation  volumetric_soil_water_layer_1      Counties  Fire  \n",
      "0                     0.0                           0.38  Tuolumne, CA     0  \n",
      "1                     0.0                           0.33  Tuolumne, CA     0  \n",
      "2                     0.0                           0.29  Tuolumne, CA     0  \n",
      "3                     0.0                           0.30  Tuolumne, CA     0  \n",
      "4                     0.0                           0.21  Tuolumne, CA     0  \n",
      "...                   ...                            ...           ...   ...  \n",
      "3394                  0.0                           0.03     Marin, CA     0  \n",
      "3395                  0.0                           0.02     Marin, CA     0  \n",
      "3396                  0.0                           0.02     Marin, CA     0  \n",
      "3397                  0.0                           0.08     Marin, CA     0  \n",
      "3398                  0.0                           0.11     Marin, CA     0  \n",
      "\n",
      "[3399 rows x 9 columns]\n"
     ]
    }
   ],
   "source": [
    "counties = fire_data[\"Counties\"].unique()\n",
    "files = []\n",
    "for county in counties:\n",
    "    fname = f\"{cwd}/Cleaned Data/{county}/{county}_Fire_Incidents.csv\"\n",
    "    files.append(fname)\n",
    "\n",
    "no_fire_data = pd.concat(map(pd.read_csv, files), ignore_index=True)\n",
    "no_fire_data['Fire'] = 0\n",
    "print(no_fire_data)"
   ]
  },
  {
   "cell_type": "code",
   "execution_count": 6,
   "id": "467a8445",
   "metadata": {},
   "outputs": [],
   "source": [
    "data = pd.concat([fire_data, no_fire_data], ignore_index=True, sort=False)\n",
    "url = cwd + r\"/Cleaned Data/Combined_Weather_California_Fire_Incidents.csv\"\n",
    "data.to_csv(url, index=False)"
   ]
  },
  {
   "cell_type": "code",
   "execution_count": 7,
   "id": "3eabac7b",
   "metadata": {},
   "outputs": [
    {
     "name": "stdout",
     "output_type": "stream",
     "text": [
      "      AcresBurned         Counties               Started Started_Date  \\\n",
      "0        257314.0     Tuolumne, CA  2013-08-17T15:25:00Z   2013-08-17   \n",
      "1         30274.0  Los Angeles, CA  2013-05-30T15:28:00Z   2013-05-30   \n",
      "2         27531.0    Riverside, CA  2013-07-15T13:43:00Z   2013-07-15   \n",
      "3         27440.0       Placer, CA  2013-08-10T16:30:00Z   2013-08-10   \n",
      "4         24251.0      Ventura, CA  2013-05-02T07:01:00Z   2013-05-02   \n",
      "...           ...              ...                   ...          ...   \n",
      "4994          NaN        Marin, CA                   NaN   2019-07-15   \n",
      "4995          NaN        Marin, CA                   NaN   2019-08-15   \n",
      "4996          NaN        Marin, CA                   NaN   2019-09-15   \n",
      "4997          NaN        Marin, CA                   NaN   2019-11-15   \n",
      "4998          NaN        Marin, CA                   NaN   2019-12-15   \n",
      "\n",
      "      Started_Hour  temperature  relative_humidity  wind_speed  \\\n",
      "0             15.0        21.28               0.29        1.30   \n",
      "1             15.0        19.81               0.56        1.34   \n",
      "2             13.0        22.62               0.62        2.77   \n",
      "3             16.0        19.13               0.30        1.26   \n",
      "4              7.0        16.40               0.94        0.19   \n",
      "...            ...          ...                ...         ...   \n",
      "4994           NaN        23.00               0.66        4.09   \n",
      "4995           NaN        25.22               0.82        1.67   \n",
      "4996           NaN        23.63               0.56       11.14   \n",
      "4997           NaN        18.77               0.76        3.44   \n",
      "4998           NaN        16.69               0.69        3.25   \n",
      "\n",
      "      wind_direction  total_precipitation  volumetric_soil_water_layer_1  Fire  \n",
      "0              58.58                 0.00                           0.13     1  \n",
      "1             174.30                 0.00                           0.07     1  \n",
      "2             256.01                 0.00                           0.10     1  \n",
      "3             204.91                 0.00                           0.22     1  \n",
      "4              81.05                 2.41                           0.45     1  \n",
      "...              ...                  ...                            ...   ...  \n",
      "4994            9.59                 0.00                           0.03     0  \n",
      "4995            8.64                 0.00                           0.02     0  \n",
      "4996           21.09                 0.00                           0.02     0  \n",
      "4997          166.85                 0.00                           0.08     0  \n",
      "4998           41.32                 0.00                           0.11     0  \n",
      "\n",
      "[4999 rows x 12 columns]\n"
     ]
    }
   ],
   "source": [
    "print(data)"
   ]
  },
  {
   "cell_type": "code",
   "execution_count": 8,
   "id": "eccfd955",
   "metadata": {},
   "outputs": [
    {
     "name": "stdout",
     "output_type": "stream",
     "text": [
      "      AcresBurned         Counties               Started Started_Date  \\\n",
      "0        257314.0     Tuolumne, CA  2013-08-17T15:25:00Z   2013-08-17   \n",
      "1         30274.0  Los Angeles, CA  2013-05-30T15:28:00Z   2013-05-30   \n",
      "2         27531.0    Riverside, CA  2013-07-15T13:43:00Z   2013-07-15   \n",
      "3         27440.0       Placer, CA  2013-08-10T16:30:00Z   2013-08-10   \n",
      "4         24251.0      Ventura, CA  2013-05-02T07:01:00Z   2013-05-02   \n",
      "...           ...              ...                   ...          ...   \n",
      "4994          NaN        Marin, CA                   NaN   2019-07-15   \n",
      "4995          NaN        Marin, CA                   NaN   2019-08-15   \n",
      "4996          NaN        Marin, CA                   NaN   2019-09-15   \n",
      "4997          NaN        Marin, CA                   NaN   2019-11-15   \n",
      "4998          NaN        Marin, CA                   NaN   2019-12-15   \n",
      "\n",
      "      Started_Hour  temperature  relative_humidity  wind_speed  \\\n",
      "0             15.0        21.28               0.29        1.30   \n",
      "1             15.0        19.81               0.56        1.34   \n",
      "2             13.0        22.62               0.62        2.77   \n",
      "3             16.0        19.13               0.30        1.26   \n",
      "4              7.0        16.40               0.94        0.19   \n",
      "...            ...          ...                ...         ...   \n",
      "4994           NaN        23.00               0.66        4.09   \n",
      "4995           NaN        25.22               0.82        1.67   \n",
      "4996           NaN        23.63               0.56       11.14   \n",
      "4997           NaN        18.77               0.76        3.44   \n",
      "4998           NaN        16.69               0.69        3.25   \n",
      "\n",
      "      wind_direction  total_precipitation  volumetric_soil_water_layer_1  \\\n",
      "0              58.58                 0.00                           0.13   \n",
      "1             174.30                 0.00                           0.07   \n",
      "2             256.01                 0.00                           0.10   \n",
      "3             204.91                 0.00                           0.22   \n",
      "4              81.05                 2.41                           0.45   \n",
      "...              ...                  ...                            ...   \n",
      "4994            9.59                 0.00                           0.03   \n",
      "4995            8.64                 0.00                           0.02   \n",
      "4996           21.09                 0.00                           0.02   \n",
      "4997          166.85                 0.00                           0.08   \n",
      "4998           41.32                 0.00                           0.11   \n",
      "\n",
      "      Fire  Counties_Idx  \n",
      "0        1             0  \n",
      "1        1             1  \n",
      "2        1             2  \n",
      "3        1             3  \n",
      "4        1             4  \n",
      "...    ...           ...  \n",
      "4994     0            50  \n",
      "4995     0            50  \n",
      "4996     0            50  \n",
      "4997     0            50  \n",
      "4998     0            50  \n",
      "\n",
      "[4999 rows x 13 columns]\n"
     ]
    }
   ],
   "source": [
    "data['Counties_Idx'] = data.apply (lambda row: np.where(row['Counties'] == counties)[0][0], axis=1)\n",
    "print(data)"
   ]
  },
  {
   "cell_type": "code",
   "execution_count": 9,
   "id": "41feed97",
   "metadata": {},
   "outputs": [],
   "source": [
    "X = data[columns].values\n",
    "y = data[['Fire']].values\n",
    "y = y.reshape(y.shape[0])"
   ]
  },
  {
   "cell_type": "code",
   "execution_count": 10,
   "id": "e94f2142",
   "metadata": {},
   "outputs": [],
   "source": [
    "X_train, X_test, y_train, y_test = train_test_split(X, y, test_size=0.2, random_state=0)"
   ]
  },
  {
   "cell_type": "code",
   "execution_count": 11,
   "id": "c2d1cc21",
   "metadata": {},
   "outputs": [],
   "source": [
    "xtrain_url = os.getcwd() + r\"/Model Data/X Train.csv\"\n",
    "xtest_url = os.getcwd() + r\"/Model Data/X Test.csv\"\n",
    "ytrain_url = os.getcwd() + r\"/Model Data/Y Train.csv\"\n",
    "ytest_url = os.getcwd() + r\"/Model Data/Y Test.csv\"\n",
    "\n",
    "folder_path = os.getcwd() + r\"/Model Data\"\n",
    "\n",
    "if not os.path.exists(folder_path):\n",
    "    os.makedirs(folder_path)\n",
    "\n",
    "pd.DataFrame(columns = columns, data=X_train).to_csv(xtrain_url, index=False)\n",
    "pd.DataFrame(columns = columns, data=X_test).to_csv(xtest_url, index=False)\n",
    "pd.DataFrame(columns = [\"Fire\"], data=y_train).to_csv(ytrain_url, index=False)\n",
    "pd.DataFrame(columns = [\"Fire\"], data=y_test).to_csv(ytest_url, index=False)"
   ]
  },
  {
   "cell_type": "markdown",
   "id": "103d2a62",
   "metadata": {},
   "source": [
    "## Scipy Implementation"
   ]
  },
  {
   "cell_type": "code",
   "execution_count": 28,
   "id": "029e28de",
   "metadata": {},
   "outputs": [
    {
     "data": {
      "text/plain": [
       "LogisticRegression(max_iter=500)"
      ]
     },
     "execution_count": 28,
     "metadata": {},
     "output_type": "execute_result"
    }
   ],
   "source": [
    "regressor = LogisticRegression(max_iter=500)\n",
    "regressor.fit(X_train, y_train)"
   ]
  },
  {
   "cell_type": "code",
   "execution_count": 29,
   "id": "2a0ff0d7",
   "metadata": {},
   "outputs": [
    {
     "name": "stdout",
     "output_type": "stream",
     "text": [
      "Accuracy of logistic regression classifier on test set: 0.78\n"
     ]
    }
   ],
   "source": [
    "print('Accuracy of logistic regression classifier on test set: {:.2f}'.format(regressor.score(X_test, y_test)))"
   ]
  },
  {
   "cell_type": "markdown",
   "id": "b1041b97",
   "metadata": {},
   "source": [
    "## MLP Implementation"
   ]
  },
  {
   "cell_type": "code",
   "execution_count": 93,
   "id": "638bbfe8",
   "metadata": {},
   "outputs": [],
   "source": [
    "class MLP(nn.Module):\n",
    "    def __init__(self):\n",
    "        super().__init__()\n",
    "        self.layers = nn.Sequential(\n",
    "            nn.Linear(7, 20),\n",
    "            nn.ReLU(),\n",
    "            nn.Linear(20, 20),\n",
    "            nn.ReLU(),\n",
    "            nn.Linear(20,1)\n",
    "        )\n",
    "\n",
    "    def forward(self, x):\n",
    "        x = torch.sigmoid(self.layers(x))\n",
    "        return x"
   ]
  },
  {
   "cell_type": "code",
   "execution_count": 94,
   "id": "b5fe9627",
   "metadata": {},
   "outputs": [],
   "source": [
    "X_train, X_test = torch.Tensor(X_train),torch.Tensor(X_test)\n",
    "y_train, y_test = torch.Tensor(y_train),torch.Tensor(y_test)"
   ]
  },
  {
   "cell_type": "code",
   "execution_count": 102,
   "id": "b3ddd675",
   "metadata": {},
   "outputs": [
    {
     "name": "stdout",
     "output_type": "stream",
     "text": [
      "Iteration: 100. \n",
      "Test - Loss: 0.5691699385643005. Accuracy: 69.9\n",
      "Train -  Loss: 0.5771462917327881. Accuracy: 68.96724181045262\n",
      "\n",
      "Iteration: 200. \n",
      "Test - Loss: 0.5504651069641113. Accuracy: 70.3\n",
      "Train -  Loss: 0.5558959245681763. Accuracy: 70.76769192298075\n",
      "\n",
      "Iteration: 300. \n",
      "Test - Loss: 0.5371274352073669. Accuracy: 70.9\n",
      "Train -  Loss: 0.5412337183952332. Accuracy: 71.39284821205301\n",
      "\n",
      "Iteration: 400. \n",
      "Test - Loss: 0.5279341340065002. Accuracy: 71.9\n",
      "Train -  Loss: 0.5327427387237549. Accuracy: 72.26806701675419\n",
      "\n",
      "Iteration: 500. \n",
      "Test - Loss: 0.5227728486061096. Accuracy: 72.1\n",
      "Train -  Loss: 0.5272766351699829. Accuracy: 72.84321080270068\n",
      "\n",
      "Iteration: 600. \n",
      "Test - Loss: 0.5169573426246643. Accuracy: 72.6\n",
      "Train -  Loss: 0.5207401514053345. Accuracy: 73.36834208552138\n",
      "\n",
      "Iteration: 700. \n",
      "Test - Loss: 0.5133823752403259. Accuracy: 73.0\n",
      "Train -  Loss: 0.5157020688056946. Accuracy: 73.49337334333583\n",
      "\n",
      "Iteration: 800. \n",
      "Test - Loss: 0.5083916187286377. Accuracy: 73.0\n",
      "Train -  Loss: 0.5092359781265259. Accuracy: 74.143535883971\n",
      "\n",
      "Iteration: 900. \n",
      "Test - Loss: 0.5060455203056335. Accuracy: 73.2\n",
      "Train -  Loss: 0.5065325498580933. Accuracy: 73.94348587146787\n",
      "\n",
      "Iteration: 1000. \n",
      "Test - Loss: 0.5033441781997681. Accuracy: 73.2\n",
      "Train -  Loss: 0.5038533210754395. Accuracy: 74.01850462615654\n",
      "\n",
      "Iteration: 1100. \n",
      "Test - Loss: 0.50191330909729. Accuracy: 73.4\n",
      "Train -  Loss: 0.5028049349784851. Accuracy: 74.21855463865967\n",
      "\n",
      "Iteration: 1200. \n",
      "Test - Loss: 0.49973201751708984. Accuracy: 73.6\n",
      "Train -  Loss: 0.5009387135505676. Accuracy: 74.26856714178544\n",
      "\n",
      "Iteration: 1300. \n",
      "Test - Loss: 0.49752095341682434. Accuracy: 73.6\n",
      "Train -  Loss: 0.4989078938961029. Accuracy: 74.49362340585147\n",
      "\n",
      "Iteration: 1400. \n",
      "Test - Loss: 0.4953312575817108. Accuracy: 74.1\n",
      "Train -  Loss: 0.496916800737381. Accuracy: 74.76869217304326\n",
      "\n",
      "Iteration: 1500. \n",
      "Test - Loss: 0.4937483072280884. Accuracy: 74.1\n",
      "Train -  Loss: 0.49545547366142273. Accuracy: 75.01875468867217\n",
      "\n"
     ]
    }
   ],
   "source": [
    "model = MLP()\n",
    "criterion = nn.BCELoss()\n",
    "optimizer = optim.SGD(model.parameters(), lr=0.008)\n",
    "\n",
    "iter = 0\n",
    "for epoch in range(1500):\n",
    "    x = X_train\n",
    "    labels = y_train\n",
    "    optimizer.zero_grad()\n",
    "    outputs = model(X_train)\n",
    "    loss = criterion(torch.squeeze(outputs), labels) \n",
    "    \n",
    "    loss.backward()\n",
    "    optimizer.step()\n",
    "    \n",
    "    iter+=1\n",
    "    if iter%100==0:\n",
    "        with torch.no_grad():\n",
    "            correct_test = 0\n",
    "            total_test = 0\n",
    "            outputs_test = torch.squeeze(model(X_test))\n",
    "            loss_test = criterion(outputs_test, y_test)\n",
    "            \n",
    "            predicted_test = outputs_test.round().detach().numpy()\n",
    "            total_test += y_test.size(0)\n",
    "            correct_test += np.sum(predicted_test == y_test.detach().numpy())\n",
    "            accuracy_test = 100 * correct_test/total_test\n",
    "            \n",
    "            total = 0\n",
    "            correct = 0\n",
    "            total += y_train.size(0)\n",
    "            correct += np.sum(torch.squeeze(outputs).round().detach().numpy() == y_train.detach().numpy())\n",
    "            accuracy = 100 * correct/total\n",
    "            \n",
    "            print(f\"Iteration: {iter}. \\nTest - Loss: {loss_test.item()}. Accuracy: {accuracy_test}\")\n",
    "            print(f\"Train -  Loss: {loss.item()}. Accuracy: {accuracy}\\n\")"
   ]
  },
  {
   "cell_type": "code",
   "execution_count": null,
   "id": "88497731",
   "metadata": {},
   "outputs": [],
   "source": []
  }
 ],
 "metadata": {
  "kernelspec": {
   "display_name": "Python 3",
   "language": "python",
   "name": "python3"
  },
  "language_info": {
   "codemirror_mode": {
    "name": "ipython",
    "version": 3
   },
   "file_extension": ".py",
   "mimetype": "text/x-python",
   "name": "python",
   "nbconvert_exporter": "python",
   "pygments_lexer": "ipython3",
   "version": "3.8.8"
  }
 },
 "nbformat": 4,
 "nbformat_minor": 5
}
